{
 "cells": [
  {
   "cell_type": "code",
   "execution_count": 1,
   "metadata": {},
   "outputs": [
    {
     "name": "stderr",
     "output_type": "stream",
     "text": [
      "/home/jesse/anaconda3/lib/python3.6/site-packages/h5py/__init__.py:36: FutureWarning: Conversion of the second argument of issubdtype from `float` to `np.floating` is deprecated. In future, it will be treated as `np.float64 == np.dtype(float).type`.\n",
      "  from ._conv import register_converters as _register_converters\n"
     ]
    }
   ],
   "source": [
    "import h5py, os, pickle\n",
    "import numpy as np\n",
    "from imp import reload\n",
    "\n",
    "from ecog.utils import bands\n",
    "from ecog.signal_processing import resample\n",
    "\n",
    "from cv_paper_plots.broadband import forward_bl, baseline_mean_std, load_data"
   ]
  },
  {
   "cell_type": "markdown",
   "metadata": {},
   "source": [
    "# Load data"
   ]
  },
  {
   "cell_type": "code",
   "execution_count": 2,
   "metadata": {},
   "outputs": [],
   "source": [
    "folder = os.path.join(os.environ['HOME'],'Development/data/ecog/AA_ff/')\n",
    "subjects = ['ec2', 'ec9', 'gp31', 'gp33']\n",
    "files = ['EC2_blocks_1_8_9_15_76_89_105_CV_AA_ff_align_window_-0.5_to_0.79_none.h5',\n",
    "         'EC9_blocks_15_39_46_49_53_60_63_CV_AA_ff_align_window_-0.5_to_0.79_none.h5',\n",
    "         'GP31_blocks_1_2_4_6_9_21_63_65_67_69_71_78_82_83_CV_AA_ff_align_window_-0.5_to_0.79_none.h5',\n",
    "         'GP33_blocks_1_5_30_CV_AA_ff_align_window_-0.5_to_0.79_none.h5']\n",
    "cfs = bands.chang_lab['cfs']"
   ]
  },
  {
   "cell_type": "markdown",
   "metadata": {},
   "source": [
    "# No 1f"
   ]
  },
  {
   "cell_type": "code",
   "execution_count": 3,
   "metadata": {},
   "outputs": [
    {
     "name": "stdout",
     "output_type": "stream",
     "text": [
      "2572 86\n",
      "1570 78\n",
      "5209 83\n",
      "1422 99\n"
     ]
    }
   ],
   "source": [
    "for subject_idx in range(4):\n",
    "    subject = subjects[subject_idx]\n",
    "    fname = os.path.join(folder, files[subject_idx])\n",
    "    X, baselines, good_examples, good_channels, tokens, block_labels, labels = load_data(fname)\n",
    "    with open('{}_bl_bb.pkl'.format(subject), 'rb') as f:\n",
    "        bl_bb = pickle.load(f)\n",
    "    bl_mean_bb, bl_std_bb = baseline_mean_std(block_labels, good_channels, baselines)\n",
    "    X, _ = forward_bl(X, 'bl_zscore', bl_mean_bb, bl_std_bb, block_labels)\n",
    "    HG_freq = bands.neuro['HG_freq']\n",
    "    new_fname = os.path.splitext(fname)[0]\n",
    "    new_fname = '{}_AA_avg_ff.h5'.format(new_fname)\n",
    "    min_freqs = bands.neuro['min_freqs']\n",
    "    max_freqs = bands.neuro['max_freqs']\n",
    "    with h5py.File(new_fname, 'w') as f:\n",
    "        f.create_dataset('y', data=labels)\n",
    "        for ii, b in enumerate(bands.neuro['bands']):\n",
    "            minf = min_freqs[ii]\n",
    "            maxf = max_freqs[ii]\n",
    "            idxs = np.where(np.logical_and(cfs >= minf, cfs <= maxf))[0]\n",
    "            target_fs = 200.\n",
    "            if not np.allclose(target_fs, HG_freq):\n",
    "                Xp = resample(X[idxs], target_fs, HG_freq).mean(axis=0)\n",
    "            else:\n",
    "                Xp = X[idxs].mean(axis=0)\n",
    "            f.create_dataset('X{}'.format(b), data=Xp.astype('float32'))\n",
    "            \n",
    "            target_fs = (HG_freq * (minf + maxf) /\n",
    "                                 (max_freqs[-1] + min_freqs[-1]))\n",
    "            if not np.allclose(target_fs, HG_freq):\n",
    "                Xp = resample(X[idxs], target_fs, HG_freq).mean(axis=0)\n",
    "            else:\n",
    "                Xp = X[idxs].mean(axis=0)\n",
    "            f.create_dataset('Xds{}'.format(b), data=Xp.astype('float32'))"
   ]
  },
  {
   "cell_type": "markdown",
   "metadata": {},
   "source": [
    "# 1f"
   ]
  },
  {
   "cell_type": "code",
   "execution_count": 4,
   "metadata": {
    "scrolled": true
   },
   "outputs": [
    {
     "name": "stdout",
     "output_type": "stream",
     "text": [
      "2572 86\n",
      "1570 78\n",
      "5209 83\n",
      "1422 99\n"
     ]
    }
   ],
   "source": [
    "for subject_idx in range(4):\n",
    "    subject = subjects[subject_idx]\n",
    "    fname = os.path.join(folder, files[subject_idx])\n",
    "    X, baselines, good_examples, good_channels, tokens, block_labels, labels = load_data(fname)\n",
    "    with open('{}_bl_bb.pkl'.format(subject), 'rb') as f:\n",
    "        bl_bb = pickle.load(f)\n",
    "    bl_mean_bb, bl_std_bb = baseline_mean_std(block_labels, good_channels, baselines, mb=bl_bb, cfs=cfs)\n",
    "    d = np.load('{}_bb.npz'.format(subject))\n",
    "    X_fits = d['X_bls']\n",
    "    X_medR2 = d['X_medR2']\n",
    "    kind = d['kind']\n",
    "    X, _ = forward_bl(X, 'bl_zscore_bb', bl_mean_bb, bl_std_bb, block_labels, X_fits, cfs)\n",
    "    HG_freq = bands.neuro['HG_freq']\n",
    "    new_fname = os.path.splitext(fname)[0]\n",
    "    new_fname = '{}_AA_avg_1f.h5'.format(new_fname)\n",
    "    min_freqs = bands.neuro['min_freqs']\n",
    "    max_freqs = bands.neuro['max_freqs']\n",
    "    with h5py.File(new_fname, 'w') as f:\n",
    "        f.create_dataset('y', data=labels)\n",
    "        for ii, b in enumerate(bands.neuro['bands']):\n",
    "            minf = min_freqs[ii]\n",
    "            maxf = max_freqs[ii]\n",
    "            idxs = np.where(np.logical_and(cfs >= minf, cfs <= maxf))[0]\n",
    "            target_fs = 200.\n",
    "            if not np.allclose(target_fs, HG_freq):\n",
    "                Xp = resample(X[idxs], target_fs, HG_freq).mean(axis=0)\n",
    "            else:\n",
    "                Xp = X[idxs].mean(axis=0)\n",
    "            f.create_dataset('X{}'.format(b), data=Xp.astype('float32'))\n",
    "            \n",
    "            target_fs = (HG_freq * (minf + maxf) /\n",
    "                                 (max_freqs[-1] + min_freqs[-1]))\n",
    "            if not np.allclose(target_fs, HG_freq):\n",
    "                Xp = resample(X[idxs], target_fs, HG_freq).mean(axis=0)\n",
    "            else:\n",
    "                Xp = X[idxs].mean(axis=0)\n",
    "            f.create_dataset('Xds{}'.format(b), data=Xp.astype('float32'))"
   ]
  },
  {
   "cell_type": "code",
   "execution_count": null,
   "metadata": {},
   "outputs": [],
   "source": []
  }
 ],
 "metadata": {
  "kernelspec": {
   "display_name": "Python 3",
   "language": "python",
   "name": "python3"
  },
  "language_info": {
   "codemirror_mode": {
    "name": "ipython",
    "version": 3
   },
   "file_extension": ".py",
   "mimetype": "text/x-python",
   "name": "python",
   "nbconvert_exporter": "python",
   "pygments_lexer": "ipython3",
   "version": "3.6.4"
  }
 },
 "nbformat": 4,
 "nbformat_minor": 2
}
