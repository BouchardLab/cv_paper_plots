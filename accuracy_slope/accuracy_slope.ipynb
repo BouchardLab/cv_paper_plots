{
 "cells": [
  {
   "cell_type": "code",
   "execution_count": 31,
   "metadata": {},
   "outputs": [],
   "source": [
    "import pickle, os\n",
    "import numpy as np\n",
    "import matplotlib.pyplot as plt\n",
    "import pandas as pd\n",
    "%matplotlib inline\n",
    "\n",
    "from cv_paper_plots import accuracy, slope, analysis\n",
    "\n",
    "from cv_paper_plots.style import letter_fontstyle\n",
    "\n",
    "from importlib import reload\n",
    "\n",
    "import scipy.stats as stats\n",
    "from statsmodels.formula.api import ols"
   ]
  },
  {
   "cell_type": "code",
   "execution_count": 22,
   "metadata": {
    "collapsed": true
   },
   "outputs": [],
   "source": [
    "subjects = ['ec2', 'ec9', 'gp31', 'gp33']"
   ]
  },
  {
   "cell_type": "code",
   "execution_count": 23,
   "metadata": {
    "collapsed": true
   },
   "outputs": [],
   "source": [
    "with open(os.path.join(os.environ['HOME'], 'plots/model/data/frac_results.pkl'), 'rb') as f:\n",
    "    deep_all, linear_all, _ = pickle.load(f, encoding='latin1')\n",
    "\n",
    "d = np.load(os.path.join(os.environ['HOME'], 'plots/ds/data/dataset_chance.npz'))\n",
    "chance = d['chance_data']\n",
    "training_size = d['training_size']"
   ]
  },
  {
   "cell_type": "code",
   "execution_count": 24,
   "metadata": {},
   "outputs": [],
   "source": [
    "other_linear_accuracy = {}\n",
    "other_deep_accuracy = {}\n",
    "for key in ['c', 'v', 'p', 'm']:\n",
    "    other_linear_accuracy[key] = np.zeros((len(subjects), 3, 10))\n",
    "    other_deep_accuracy[key] = np.zeros((len(subjects), 3, 10))\n",
    "for ii, s in enumerate(subjects):\n",
    "    for style in ['_lin', '']:\n",
    "        f_string = 'plots/model/data/{}_{}_hg_a{}_model_output.pkl'.format(s, s, style)\n",
    "        with open(os.path.join(os.environ['HOME'], f_string), 'rb') as f:\n",
    "            dicts, dicts2, y_dims, has_data = pickle.load(f, encoding='latin1')\n",
    "        indices_dicts2, y_hat_dicts2, logits_dicts2 = dicts2\n",
    "        mats = analysis.indx_dict2conf_mat(indices_dicts2, y_dims)\n",
    "        c_mat, v_mat, cv_mat = mats\n",
    "        acc = analysis.conf_mat2accuracy(c_mat, v_mat, cv_mat)\n",
    "        (c_accuracy, v_accuracy, cv_accuracy, accuracy_per_cv,\n",
    "         p_accuracy, m_accuracy) = acc\n",
    "        if style == '_lin':\n",
    "            d = other_linear_accuracy\n",
    "        else:\n",
    "            d = other_deep_accuracy\n",
    "        d['c'][ii, 2] = c_accuracy\n",
    "        d['v'][ii, 2] = v_accuracy\n",
    "        d['p'][ii, 2] = p_accuracy\n",
    "        d['m'][ii, 2] = m_accuracy"
   ]
  },
  {
   "cell_type": "code",
   "execution_count": 25,
   "metadata": {
    "collapsed": true
   },
   "outputs": [],
   "source": [
    "fracs = sorted(deep_all.keys())"
   ]
  },
  {
   "cell_type": "markdown",
   "metadata": {},
   "source": [
    "# CV Accuracy"
   ]
  },
  {
   "cell_type": "code",
   "execution_count": 26,
   "metadata": {
    "scrolled": false
   },
   "outputs": [
    {
     "name": "stdout",
     "output_type": "stream",
     "text": [
      "Subject 1: p=0.005062032126267864, 0.005062032126267864, 0.005062032126267864\n",
      "Subject 1: p=0.0022\n",
      "Subject 2: p=0.21352435403618242, 0.005062032126267864, 0.005062032126267864\n"
     ]
    },
    {
     "name": "stderr",
     "output_type": "stream",
     "text": [
      "/home/jesse/anaconda3/lib/python3.6/site-packages/scipy/stats/morestats.py:2385: UserWarning: Warning: sample size too small for normal approximation.\n",
      "  warnings.warn(\"Warning: sample size too small for normal approximation.\")\n"
     ]
    },
    {
     "name": "stdout",
     "output_type": "stream",
     "text": [
      "Subject 2: p=0.2738\n",
      "Subject 3: p=0.005062032126267864, 0.005062032126267864, 0.005062032126267864\n",
      "Subject 3: p=0.0018\n",
      "Subject 4: p=0.005062032126267864, 0.005033508200606249, 0.005062032126267864\n",
      "Subject 4: p=0.0027\n",
      "all subject: p=1.4069613793016899e-06\n",
      "The highest deep network accuracy for a single subject on the consonant vowel task is for Subject 1 which is 38.3$\\pm$ 2.9\\% (21.5 times chance, 1.8\\%) and 23.6$\\pm$ 2.1\\% (13.2 times chance, 1.8\\%) for logistic regression and deep networks respectively, which is a 63.1\\% improvement. Mean consonant vowel classification accuracy across subjects (XX way) with deep networks is 19.9 $\\pm$ 12.6\\%. For logistic regression, it is 13.1 $\\pm$ 7.4\\%.\n",
      "Subject 1: p=0.005062032126267864, 0.005062032126267864, 0.005062032126267864\n",
      "Subject 1: p=0.0014\n",
      "Subject 2: p=0.1688069535565081, 0.005062032126267864, 0.005062032126267864\n",
      "Subject 2: p=0.1748\n",
      "Subject 3: p=0.005062032126267864, 0.005062032126267864, 0.005062032126267864\n",
      "Subject 3: p=0.0023\n",
      "Subject 4: p=0.009344113002204883, 0.005062032126267864, 0.005062032126267864\n",
      "Subject 4: p=0.0068\n",
      "all subject: p=1.3533232427479598e-06\n",
      "The highest deep network accuracy for a single subject on the consonant task is for Subject 1 which is 44.9$\\pm$ 3.0\\% (8.5 times chance, 5.3\\%) and 34.0$\\pm$ 1.5\\% (6.4 times chance, 5.3\\%) for logistic regression and deep networks respectively, which is a 32.4\\% improvement. Mean consonant classification accuracy across subjects (XX way) with deep networks is 26.8 $\\pm$ 12.6\\%. For logistic regression, it is 21.4 $\\pm$ 8.7\\%.\n",
      "Subject 1: p=0.005062032126267864, 0.005062032126267864, 0.005062032126267864\n",
      "Subject 1: p=0.0019\n",
      "Subject 2: p=0.09260069782067576, 0.005062032126267864, 0.005062032126267864\n",
      "Subject 2: p=0.0886\n",
      "Subject 3: p=0.007685794055213263, 0.005062032126267864, 0.005062032126267864\n",
      "Subject 3: p=0.0027\n",
      "Subject 4: p=0.005062032126267864, 0.005062032126267864, 0.005062032126267864\n",
      "Subject 4: p=0.0024\n",
      "all subject: p=1.7557276075709187e-06\n",
      "The highest deep network accuracy for a single subject on the vowel task is for Subject 1 which is 71.1$\\pm$ 1.9\\% (2.1 times chance, 33.3\\%) and 59.8$\\pm$ 2.1\\% (1.8 times chance, 33.3\\%) for logistic regression and deep networks respectively, which is a 19.1\\% improvement. Mean vowel classification accuracy across subjects (XX way) with deep networks is 51.7 $\\pm$ 12.1\\%. For logistic regression, it is 45.7 $\\pm$ 8.8\\%.\n",
      "Subject 1: p=0.005062032126267864, 0.005062032126267864, 0.005062032126267864\n",
      "Subject 1: p=0.0023\n",
      "Subject 2: p=0.9593536340401635, 0.13941397332153205, 0.13941397332153205\n",
      "Subject 2: p=0.883\n",
      "Subject 3: p=0.5076243443095237, 0.005062032126267864, 0.005062032126267864\n",
      "Subject 3: p=0.2663\n",
      "Subject 4: p=0.02841686417486375, 0.005062032126267864, 0.005062032126267864\n",
      "Subject 4: p=0.0508\n",
      "all subject: p=0.013614243425646067\n",
      "The highest deep network accuracy for a single subject on the constriction location task is for Subject 1 which is 68.6$\\pm$ 4.8\\% (2.0 times chance, 34.5\\%) and 60.2$\\pm$ 3.9\\% (1.7 times chance, 34.5\\%) for logistic regression and deep networks respectively, which is a 14.4\\% improvement. Mean constriction location classification accuracy across subjects (XX way) with deep networks is 53.3 $\\pm$ 12.6\\%. For logistic regression, it is 49.3 $\\pm$ 9.6\\%.\n",
      "Subject 1: p=0.005062032126267864, 0.005062032126267864, 0.005062032126267864\n",
      "Subject 1: p=0.0014\n",
      "Subject 2: p=0.07446183141740546, 0.005062032126267864, 0.13941397332153205\n",
      "Subject 2: p=0.0602\n",
      "Subject 3: p=0.009344113002204883, 0.005062032126267864, 0.005062032126267864\n",
      "Subject 3: p=0.0065\n",
      "Subject 4: p=0.6464622026641696, 0.005062032126267864, 0.005062032126267864\n",
      "Subject 4: p=0.5478\n",
      "all subject: p=0.39135287811407077\n",
      "The highest deep network accuracy for a single subject on the constriction degree task is for Subject 1 which is 70.2$\\pm$ 5.1\\% (2.0 times chance, 34.7\\%) and 61.9$\\pm$ 5.8\\% (1.8 times chance, 34.7\\%) for logistic regression and deep networks respectively, which is a 14.0\\% improvement. Mean constriction degree classification accuracy across subjects (XX way) with deep networks is 54.3 $\\pm$ 13.4\\%. For logistic regression, it is 51.7 $\\pm$ 10.7\\%.\n"
     ]
    },
    {
     "data": {
      "image/png": "[encoded data removed]",
      "text/plain": [
       "<matplotlib.figure.Figure at 0x7f0004f4ee80>"
      ]
     },
     "metadata": {},
     "output_type": "display_data"
    }
   ],
   "source": [
    "reload(accuracy)\n",
    "reload(slope)\n",
    "plt.close()\n",
    "f = plt.figure(figsize=(5, 4))\n",
    "\n",
    "le = .1\n",
    "re = .02\n",
    "te = .1\n",
    "be = .075\n",
    "h_gap = .1\n",
    "v_gap = .2\n",
    "\n",
    "cv_w = .3\n",
    "big_h = (1. - te - be)\n",
    "little_h = (1. - te - be - v_gap) / 2.\n",
    "w = (1. - le - cv_w - h_gap - h_gap - re) / 2.\n",
    "\n",
    "p_m_y = be + little_h + v_gap\n",
    "ax_p = f.add_axes([le, p_m_y, w, little_h])\n",
    "ax_m = f.add_axes([le + w + h_gap, p_m_y, w, little_h])\n",
    "\n",
    "ax_v = f.add_axes([le, be, w, little_h])\n",
    "ax_c = f.add_axes([le + w + h_gap, be, w, little_h])\n",
    "\n",
    "ax_cv = f.add_axes([1. - re - cv_w, be, cv_w, big_h])\n",
    "\n",
    "key = fracs[-1]\n",
    "\n",
    "accuracy.plot_cv_accuracy(subjects, deep_all[key], linear_all[key], chance[0, :, -1], ax_cv, legend=True,\n",
    "                          show_significance=True)\n",
    "\n",
    "accuracy.plot_cv_accuracy(subjects, other_deep_accuracy['c'], other_linear_accuracy['c'],\n",
    "                          chance[1, :, -1], ax_c, 'Consonant', False, ymax=9.2)\n",
    "accuracy.plot_cv_accuracy(subjects, other_deep_accuracy['v'], other_linear_accuracy['v'],\n",
    "                          chance[2, :, -1], ax_v, 'Vowel', False, ymax=2.2)\n",
    "\n",
    "accuracy.plot_cv_accuracy(subjects, other_deep_accuracy['p'], other_linear_accuracy['p'],\n",
    "                          chance[3, :, -1], ax_p, 'Constriction\\nLocation', False, ymax=2.2)\n",
    "accuracy.plot_cv_accuracy(subjects, other_deep_accuracy['m'], other_linear_accuracy['m'],\n",
    "                          chance[4, :, -1], ax_m, 'Constriction\\nDegree', False, ymax=2.2)\n",
    "\n",
    "x0 = le - .05\n",
    "y0 = p_m_y + little_h + .01\n",
    "x1 = le + w + h_gap - .05\n",
    "y1 = be + little_h + .01\n",
    "x2 = 1. - re - cv_w - .05\n",
    "\n",
    "f.text(x0, y0, 'A', **letter_fontstyle)\n",
    "f.text(x1, y0, 'B', **letter_fontstyle)\n",
    "f.text(x0, y1, 'C', **letter_fontstyle)\n",
    "f.text(x1, y1, 'D', **letter_fontstyle)\n",
    "f.text(x2, y0, 'E', **letter_fontstyle)\n",
    "\n",
    "plt.savefig(os.path.join(os.environ['HOME'], 'Downloads/accuracy.pdf'))\n",
    "plt.savefig(os.path.join(os.environ['HOME'], 'Downloads/accuracy.png'), dpi=300)"
   ]
  },
  {
   "cell_type": "markdown",
   "metadata": {},
   "source": [
    "# ANOVA improvement dependence on task"
   ]
  },
  {
   "cell_type": "code",
   "execution_count": 27,
   "metadata": {},
   "outputs": [],
   "source": [
    "cv_diffs = []\n",
    "c_diffs = []\n",
    "other_diffs = []\n",
    "\n",
    "da = deep_all[key][:, -1]\n",
    "la = linear_all[key][:, -1]\n",
    "ca = chance[0, :, -1].mean(axis=-1)\n",
    "cv_diffs = ((da - la) / ca).ravel()\n",
    "\n",
    "da = other_deep_accuracy['c'][:, -1]\n",
    "la = other_linear_accuracy['c'][:, -1]\n",
    "ca = chance[1, :, -1].mean(axis=-1)\n",
    "c_diffs = ((da - la) / ca).ravel()\n",
    "\n",
    "for ii, t in enumerate(['v', 'p', 'm']):\n",
    "    da = other_deep_accuracy[t][:, -1]\n",
    "    la = other_linear_accuracy[t][:, -1]\n",
    "    ca = chance[ii+2, :, -1].mean(axis=-1)\n",
    "    other_diffs.extend(((da - la) / ca).ravel())\n",
    "other_diffs = np.array(other_diffs)"
   ]
  },
  {
   "cell_type": "code",
   "execution_count": 28,
   "metadata": {},
   "outputs": [
    {
     "data": {
      "text/plain": [
       "F_onewayResult(statistic=79.984476745962965, pvalue=3.7224111580503916e-26)"
      ]
     },
     "execution_count": 28,
     "metadata": {},
     "output_type": "execute_result"
    }
   ],
   "source": [
    "stats.f_oneway(cv_diffs, c_diffs, other_diffs)"
   ]
  },
  {
   "cell_type": "code",
   "execution_count": 32,
   "metadata": {},
   "outputs": [
    {
     "name": "stdout",
     "output_type": "stream",
     "text": [
      "                            OLS Regression Results                            \n",
      "==============================================================================\n",
      "Dep. Variable:                      y   R-squared:                       0.448\n",
      "Model:                            OLS   Adj. R-squared:                  0.443\n",
      "Method:                 Least Squares   F-statistic:                     79.98\n",
      "Date:                Tue, 20 Feb 2018   Prob (F-statistic):           3.72e-26\n",
      "Time:                        16:35:32   Log-Likelihood:                -376.40\n",
      "No. Observations:                 200   AIC:                             758.8\n",
      "Df Residuals:                     197   BIC:                             768.7\n",
      "Df Model:                           2                                         \n",
      "Covariance Type:            nonrobust                                         \n",
      "===============================================================================\n",
      "                  coef    std err          t      P>|t|      [0.025      0.975]\n",
      "-------------------------------------------------------------------------------\n",
      "Intercept       3.8218      0.253     15.098      0.000       3.323       4.321\n",
      "C(x)[T.2.0]    -2.8134      0.358     -7.859      0.000      -3.519      -2.107\n",
      "C(x)[T.3.0]    -3.6967      0.292    -12.647      0.000      -4.273      -3.120\n",
      "==============================================================================\n",
      "Omnibus:                       57.965   Durbin-Watson:                   0.613\n",
      "Prob(Omnibus):                  0.000   Jarque-Bera (JB):              292.041\n",
      "Skew:                           0.990   Prob(JB):                     3.84e-64\n",
      "Kurtosis:                       8.579   Cond. No.                         5.05\n",
      "==============================================================================\n",
      "\n",
      "Warnings:\n",
      "[1] Standard Errors assume that the covariance matrix of the errors is correctly specified.\n"
     ]
    }
   ],
   "source": [
    "ys = np.concatenate((cv_diffs, c_diffs, other_diffs))\n",
    "xs = np.concatenate((np.ones_like(cv_diffs), 2*np.ones_like(c_diffs), 3*np.ones_like(other_diffs)))\n",
    "\n",
    "df = pd.DataFrame.from_dict({'x': xs, 'y':ys})\n",
    "formula = 'y ~ C(x)'\n",
    "lm = ols(formula, df)\n",
    "fit = lm.fit()\n",
    "print(fit.summary())"
   ]
  },
  {
   "cell_type": "markdown",
   "metadata": {},
   "source": [
    "# ANOVA deep accuracy dependence on subject"
   ]
  },
  {
   "cell_type": "code",
   "execution_count": 30,
   "metadata": {},
   "outputs": [],
   "source": [
    "s1 = []\n",
    "s2 = []\n",
    "s3 = []\n",
    "s4 = []\n",
    "\n",
    "da = deep_all[key][:, -1]\n",
    "la = linear_all[key][:, -1]\n",
    "ca = chance[0, :, -1].mean(axis=-1)\n",
    "cv_diffs = ((da - la) / ca)\n",
    "for s, x in zip([s1, s2, s3, s4], cv_diffs):\n",
    "    s.extend(x.ravel())\n",
    "\n",
    "for ii, t in enumerate(['c', 'v', 'p', 'm']):\n",
    "    da = other_deep_accuracy[t][:, -1]\n",
    "    la = other_linear_accuracy[t][:, -1]\n",
    "    ca = chance[ii+1, :, -1].mean(axis=-1)\n",
    "    other_diffs = ((da - la) / ca)\n",
    "    for s, x in zip([s1, s2, s3, s4], other_diffs):\n",
    "        s.extend(x.ravel())\n",
    "s1, s2, s3, s4 = [np.array(s).ravel() for s in [s1, s2, s3, s4]]"
   ]
  },
  {
   "cell_type": "code",
   "execution_count": 31,
   "metadata": {},
   "outputs": [
    {
     "data": {
      "text/plain": [
       "F_onewayResult(statistic=10.385808751340139, pvalue=2.2521291716222334e-06)"
      ]
     },
     "execution_count": 31,
     "metadata": {},
     "output_type": "execute_result"
    }
   ],
   "source": [
    "stats.f_oneway(s1, s2, s3, s4)"
   ]
  },
  {
   "cell_type": "markdown",
   "metadata": {},
   "source": [
    "# Improvement depedence on baseline"
   ]
  },
  {
   "cell_type": "code",
   "execution_count": null,
   "metadata": {
    "collapsed": true
   },
   "outputs": [],
   "source": []
  },
  {
   "cell_type": "markdown",
   "metadata": {
    "collapsed": true
   },
   "source": [
    "# CV Slope"
   ]
  },
  {
   "cell_type": "code",
   "execution_count": 7,
   "metadata": {
    "scrolled": false
   },
   "outputs": [
    {
     "name": "stdout",
     "output_type": "stream",
     "text": [
      "3.1323836087 0.596110561972 5.02547741709e-07 0.553983542366\n",
      "6.38846636748 0.791776366103 4.99049030788e-14 0.647123236354\n",
      "\n",
      "1.50213850904 0.378168248695 0.00289050195082 0.482834715125\n",
      "2.37880122793 0.494590391146 5.89968111821e-05 0.548884949707\n",
      "\n",
      "0.323201761913 0.287719619617 0.0258038307091 0.141262338911\n",
      "0.774446734837 0.575407668776 1.51486873566e-06 0.144538805454\n",
      "\n",
      "5.14109752119 0.457297804275 0.000239466048615 1.3127972968\n",
      "10.209351895 0.720386019724 8.66305904584e-11 1.29065834477\n",
      "\n",
      "0.000428433864638\n",
      "0.465775170163\n",
      "0.0549729455434\n",
      "0.0137118532013\n",
      "Deep networks scale better with dataset size than logistic regresion with an improvement of 1.9 $\\pm$ 3.0  and 1.1 $\\pm$ 1.5 over chance per 1000 training samples respectively. This improvement is summarized across subjects in Fig \\ref{fig:slope}B. For the subject with highest accuracy (Subject 1), the change in accuracy over chance per 1000 training examples for deep networks and logistic regression are 2.3 $\\pm$ 2.9 and 1.2 $\\pm$ 1.4 respectively. For the subject with highest slope (Subject 4), the change in accuracy over chance per 1000 training examples for deep networks and logistic regression are 3.8 $\\pm$ 4.5 and 2.2 $\\pm$ 2.2 respectively.\n"
     ]
    },
    {
     "data": {
      "image/png": "[encoded data removed]",
      "text/plain": [
       "<matplotlib.figure.Figure at 0x7f000569b048>"
      ]
     },
     "metadata": {},
     "output_type": "display_data"
    }
   ],
   "source": [
    "# reload(accuracy)\n",
    "reload(slope)\n",
    "plt.close()\n",
    "f = plt.figure(figsize=(5, 4))\n",
    "\n",
    "le = .1\n",
    "re = .02\n",
    "te = .1\n",
    "be = .11\n",
    "h_gap = .1\n",
    "\n",
    "w = .55\n",
    "h = 1. - te - be\n",
    "\n",
    "ax_lines = f.add_axes([le, be, w, h])\n",
    "ax_slopes = f.add_axes([le + w + h_gap, be, 1. - w - h_gap - le - re, h])\n",
    "\n",
    "key = fracs[-1]\n",
    "\n",
    "slope.plot_cv_slope(subjects, deep_all, linear_all, chance[0], training_size, fracs, (ax_lines, ax_slopes),\n",
    "                    legend=True)\n",
    "\n",
    "x0 = .05\n",
    "y0 = 1. - te + .01\n",
    "x1 = le + w + h_gap - .05\n",
    "\n",
    "f.text(x0, y0, 'A', **letter_fontstyle)\n",
    "f.text(x1, y0, 'B', **letter_fontstyle)\n",
    "\n",
    "plt.savefig(os.path.join(os.environ['HOME'], 'Downloads/slope.pdf'))\n",
    "plt.savefig(os.path.join(os.environ['HOME'], 'Downloads/slope.png'), dpi=300)"
   ]
  },
  {
   "cell_type": "code",
   "execution_count": null,
   "metadata": {
    "collapsed": true
   },
   "outputs": [],
   "source": []
  }
 ],
 "metadata": {
  "kernelspec": {
   "display_name": "Python 3",
   "language": "python",
   "name": "python3"
  },
  "language_info": {
   "codemirror_mode": {
    "name": "ipython",
    "version": 3
   },
   "file_extension": ".py",
   "mimetype": "text/x-python",
   "name": "python",
   "nbconvert_exporter": "python",
   "pygments_lexer": "ipython3",
   "version": "3.6.1"
  }
 },
 "nbformat": 4,
 "nbformat_minor": 2
}
