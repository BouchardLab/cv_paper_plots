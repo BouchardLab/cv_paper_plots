{
 "cells": [
  {
   "cell_type": "code",
   "execution_count": 1,
   "metadata": {
    "collapsed": true
   },
   "outputs": [],
   "source": [
    "import pickle, os\n",
    "import numpy as np\n",
    "import matplotlib.pyplot as plt\n",
    "import pandas as pd\n",
    "%matplotlib inline\n",
    "\n",
    "from cv_paper_plots import accuracy, slope, analysis\n",
    "\n",
    "from cv_paper_plots.style import letter_fontstyle\n",
    "\n",
    "from importlib import reload\n",
    "\n",
    "import scipy.stats as stats\n",
    "from statsmodels.formula.api import ols\n",
    "from statsmodels.graphics.gofplots import qqplot"
   ]
  },
  {
   "cell_type": "code",
   "execution_count": 2,
   "metadata": {
    "collapsed": true
   },
   "outputs": [],
   "source": [
    "subjects = ['ec2', 'ec9', 'gp31', 'gp33']"
   ]
  },
  {
   "cell_type": "code",
   "execution_count": 3,
   "metadata": {
    "collapsed": true
   },
   "outputs": [],
   "source": [
    "with open(os.path.join(os.environ['HOME'], 'plots/model/data/frac_results.pkl'), 'rb') as f:\n",
    "    deep_all, linear_all, _ = pickle.load(f, encoding='latin1')\n",
    "\n",
    "d = np.load(os.path.join(os.environ['HOME'], 'plots/ds/data/dataset_chance.npz'))\n",
    "chance = d['chance_data']\n",
    "training_size = d['training_size']\n",
    "fracs = sorted(deep_all.keys())"
   ]
  },
  {
   "cell_type": "code",
   "execution_count": 4,
   "metadata": {},
   "outputs": [],
   "source": [
    "other_linear_accuracy = {}\n",
    "other_deep_accuracy = {}\n",
    "linear_cv_mats = {}\n",
    "deep_cv_mats = {}\n",
    "linear_c_mats = {}\n",
    "deep_c_mats = {}\n",
    "linear_v_mats = {}\n",
    "deep_v_mats = {}\n",
    "for key in ['c', 'v', 'p', 'm']:\n",
    "    other_linear_accuracy[key] = np.zeros((len(subjects), 3, 10))\n",
    "    other_deep_accuracy[key] = np.zeros((len(subjects), 3, 10))\n",
    "for ii, s in enumerate(subjects):\n",
    "    for style in ['_lin', '']:\n",
    "        f_string = 'plots/model/data/{}_{}_hg_a{}_model_output.pkl'.format(s, s, style)\n",
    "        with open(os.path.join(os.environ['HOME'], f_string), 'rb') as f:\n",
    "            dicts, dicts2, y_dims, has_data = pickle.load(f, encoding='latin1')\n",
    "        indices_dicts2, y_hat_dicts2, logits_dicts2 = dicts2\n",
    "        mats = analysis.indx_dict2conf_mat(indices_dicts2, y_dims)\n",
    "        c_mat, v_mat, cv_mat = mats\n",
    "        acc = analysis.conf_mat2accuracy(c_mat, v_mat, cv_mat)\n",
    "        cv_mat_r = analysis.indx_dict2reduced_cv_conf_mat(dicts[1], list(dicts[1][0].values())[0][0].max()+1)\n",
    "        (c_accuracy, v_accuracy, accuracy_per_cv,\n",
    "         p_accuracy, m_accuracy) = acc\n",
    "        if style == '_lin':\n",
    "            d = other_linear_accuracy\n",
    "            mat_d = linear_cv_mats\n",
    "            mat_d_c = linear_c_mats\n",
    "            mat_d_v = linear_v_mats\n",
    "        else:\n",
    "            d = other_deep_accuracy\n",
    "            mat_d = deep_cv_mats\n",
    "            mat_d_c = deep_c_mats\n",
    "            mat_d_v = deep_v_mats\n",
    "        d['c'][ii, 2] = c_accuracy\n",
    "        d['v'][ii, 2] = v_accuracy\n",
    "        d['p'][ii, 2] = p_accuracy\n",
    "        d['m'][ii, 2] = m_accuracy\n",
    "        mat_d[s] = cv_mat_r\n",
    "        mat_d_c[s] = c_mat\n",
    "        mat_d_v[s] = v_mat"
   ]
  },
  {
   "cell_type": "markdown",
   "metadata": {},
   "source": [
    "# CV Accuracy"
   ]
  },
  {
   "cell_type": "code",
   "execution_count": 6,
   "metadata": {
    "scrolled": false
   },
   "outputs": [
    {
     "name": "stdout",
     "output_type": "stream",
     "text": [
      "Subject 1: p=0.020248128505071458, hg: 21.545827889245718, delta: 8.311071833537618\n",
      "Subject 2: p=0.8540974161447297, hg: 3.3013573101769986, delta: 0.4751119508076225\n",
      "Subject 3: p=0.020248128505071458, hg: 6.034071580498386, delta: 1.7141420286131783\n",
      "Subject 4: p=0.020248128505071458, hg: 13.34824907841502, delta: 4.786736110474774\n",
      "all subject: p=1.4069613793016899e-06\n",
      "The highest deep network accuracy for a single subject on the consonant vowel task is for Subject 1 which is 38.3 $\\pm$ 2.9\\% (21.5 times chance, 1.8\\%) and 23.6 $\\pm$ 2.1\\% (13.2 times chance, 1.8\\%) for logistic regression and deep networks respectively, which is a 63.1\\% improvement. Mean consonant vowel classification accuracy across subjects (XX way) with deep networks is 19.9 $\\pm$ 12.6\\%. For logistic regression, it is 13.1 $\\pm$ 7.4\\%.\n",
      "\n",
      "Subject 1: p=0.020248128505071458, hg: 8.47988953709336, delta: 2.066616855312173\n",
      "Subject 2: p=0.6752278142260324, hg: 2.154023840321119, delta: 0.20348693283962205\n",
      "Subject 3: p=0.020248128505071458, hg: 3.8078917134935977, delta: 0.5967377054830165\n",
      "Subject 4: p=0.03737645200881953, hg: 5.515501147757158, delta: 1.1664226485831959\n",
      "all subject: p=1.3533232427479598e-06\n",
      "The highest deep network accuracy for a single subject on the consonant task is for Subject 1 which is 44.9 $\\pm$ 3.0\\% (8.5 times chance, 5.3\\%) and 34.0 $\\pm$ 1.5\\% (6.4 times chance, 5.3\\%) for logistic regression and deep networks respectively, which is a 32.4\\% improvement. Mean consonant classification accuracy across subjects (XX way) with deep networks is 26.8 $\\pm$ 12.6\\%. For logistic regression, it is 21.4 $\\pm$ 8.7\\%.\n",
      "\n",
      "Subject 1: p=0.020248128505071458, hg: 2.1316546417143654, delta: 0.3395589552352325\n",
      "Subject 2: p=0.37040279128270304, hg: 1.3147380013341645, delta: 0.08492816876299303\n",
      "Subject 3: p=0.03074317622085305, hg: 1.235310127774734, delta: 0.0909909667632458\n",
      "Subject 4: p=0.020248128505071458, hg: 1.5233364175959527, delta: 0.21341475135418797\n",
      "all subject: p=1.7557276075709187e-06\n",
      "The highest deep network accuracy for a single subject on the vowel task is for Subject 1 which is 71.1 $\\pm$ 1.9\\% (2.1 times chance, 33.3\\%) and 59.8 $\\pm$ 2.1\\% (1.8 times chance, 33.3\\%) for logistic regression and deep networks respectively, which is a 19.1\\% improvement. Mean vowel classification accuracy across subjects (XX way) with deep networks is 51.7 $\\pm$ 12.1\\%. For logistic regression, it is 45.7 $\\pm$ 8.8\\%.\n",
      "\n",
      "Subject 1: p=0.020248128505071458, hg: 2.597539045634318, delta: 0.274766879643368\n",
      "Subject 2: p=0.5545625352528744, hg: 1.5612547186611323, delta: 0.131166543989383\n",
      "Subject 3: p=0.05006127476029589, hg: 1.5641226810329802, delta: 0.14459881761445925\n",
      "Subject 4: p=0.05006127476029589, hg: 2.1610594572723674, delta: 0.31159071926129234\n",
      "all subject: p=9.092718471628315e-06\n",
      "The highest deep network accuracy for a single subject on the constriction location task is for Subject 1 which is 89.7 $\\pm$ 4.1\\% (2.6 times chance, 34.5\\%) and 80.2 $\\pm$ 5.8\\% (2.3 times chance, 34.5\\%) for logistic regression and deep networks respectively, which is a 12.4\\% improvement. Mean constriction location classification accuracy across subjects (XX way) with deep networks is 68.7 $\\pm$ 15.3\\%. For logistic regression, it is 61.2 $\\pm$ 13.4\\%.\n",
      "\n",
      "Subject 1: p=0.03737645200881953, hg: 2.3356192311868975, delta: 0.32753055924739893\n",
      "Subject 2: p=3.513926973731485, hg: 1.2655679406982059, delta: 0.053848135473862246\n",
      "Subject 3: p=0.964485473109673, hg: 1.5778840394793971, delta: 0.06485606246055386\n",
      "Subject 4: p=0.964485473109673, hg: 1.6976875426016604, delta: 0.09866045437775472\n",
      "all subject: p=0.029304302383780817\n",
      "The highest deep network accuracy for a single subject on the constriction degree task is for Subject 1 which is 81.0 $\\pm$ 3.1\\% (2.3 times chance, 34.7\\%) and 69.6 $\\pm$ 7.1\\% (2.0 times chance, 34.7\\%) for logistic regression and deep networks respectively, which is a 17.6\\% improvement. Mean constriction degree classification accuracy across subjects (XX way) with deep networks is 59.0 $\\pm$ 15.7\\%. For logistic regression, it is 54.3 $\\pm$ 12.8\\%.\n",
      "\n"
     ]
    },
    {
     "name": "stderr",
     "output_type": "stream",
     "text": [
      "/home/jesse/anaconda3/lib/python3.6/site-packages/scipy/stats/morestats.py:2385: UserWarning: Warning: sample size too small for normal approximation.\n",
      "  warnings.warn(\"Warning: sample size too small for normal approximation.\")\n"
     ]
    },
    {
     "data": {
      "image/png": "[encoded data removed]",
      "text/plain": [
       "<matplotlib.figure.Figure at 0x7f701b16f358>"
      ]
     },
     "metadata": {},
     "output_type": "display_data"
    }
   ],
   "source": [
    "reload(accuracy)\n",
    "reload(slope)\n",
    "plt.close()\n",
    "f = plt.figure(figsize=(5, 4))\n",
    "\n",
    "le = .1\n",
    "re = .02\n",
    "te = .1\n",
    "be = .075\n",
    "h_gap = .1\n",
    "v_gap = .2\n",
    "\n",
    "cv_w = .3\n",
    "big_h = (1. - te - be)\n",
    "little_h = (1. - te - be - v_gap) / 2.\n",
    "w = (1. - le - cv_w - h_gap - h_gap - re) / 2.\n",
    "\n",
    "p_m_y = be + little_h + v_gap\n",
    "ax_p = f.add_axes([le, p_m_y, w, little_h])\n",
    "ax_m = f.add_axes([le + w + h_gap, p_m_y, w, little_h])\n",
    "\n",
    "ax_v = f.add_axes([le, be, w, little_h])\n",
    "ax_c = f.add_axes([le + w + h_gap, be, w, little_h])\n",
    "\n",
    "ax_cv = f.add_axes([1. - re - cv_w, be, cv_w, big_h])\n",
    "\n",
    "key = fracs[-1]\n",
    "\n",
    "accuracy.plot_cv_accuracy(subjects, deep_all[key], linear_all[key], chance[0, :, -1], ax_cv, legend=True,\n",
    "                          show_significance=True)\n",
    "\n",
    "accuracy.plot_cv_accuracy(subjects, other_deep_accuracy['c'], other_linear_accuracy['c'],\n",
    "                          chance[1, :, -1], ax_c, 'Consonant', False, ymax=9.2)\n",
    "accuracy.plot_cv_accuracy(subjects, other_deep_accuracy['v'], other_linear_accuracy['v'],\n",
    "                          chance[2, :, -1], ax_v, 'Vowel', False, ymax=2.8)\n",
    "\n",
    "accuracy.plot_cv_accuracy(subjects, other_deep_accuracy['p'], other_linear_accuracy['p'],\n",
    "                          chance[3, :, -1], ax_p, 'Constriction\\nLocation', False, ymax=2.8)\n",
    "accuracy.plot_cv_accuracy(subjects, other_deep_accuracy['m'], other_linear_accuracy['m'],\n",
    "                          chance[4, :, -1], ax_m, 'Constriction\\nDegree', False, ymax=2.8)\n",
    "\n",
    "x0 = le - .05\n",
    "y0 = p_m_y + little_h + .01\n",
    "x1 = le + w + h_gap - .05\n",
    "y1 = be + little_h + .01\n",
    "x2 = 1. - re - cv_w - .05\n",
    "\n",
    "f.text(x0, y0, 'A', **letter_fontstyle)\n",
    "f.text(x1, y0, 'B', **letter_fontstyle)\n",
    "f.text(x0, y1, 'C', **letter_fontstyle)\n",
    "f.text(x1, y1, 'D', **letter_fontstyle)\n",
    "f.text(x2, y0, 'E', **letter_fontstyle)\n",
    "\n",
    "plt.savefig(os.path.join(os.environ['HOME'], 'Downloads/accuracy.pdf'))\n",
    "plt.savefig(os.path.join(os.environ['HOME'], 'Downloads/accuracy.png'), dpi=300)"
   ]
  },
  {
   "cell_type": "markdown",
   "metadata": {},
   "source": [
    "# ANOVA improvement dependence on subject, model, task"
   ]
  },
  {
   "cell_type": "code",
   "execution_count": 7,
   "metadata": {
    "collapsed": true
   },
   "outputs": [],
   "source": [
    "accuracies = []\n",
    "\n",
    "ch = chance[0, :, -1].mean(axis=-1)\n",
    "da = deep_all[key][:, -1] / ch\n",
    "la = linear_all[key][:, -1] / ch\n",
    "\n",
    "for ii in range(4):\n",
    "    for jj in range(10):\n",
    "        accuracies.append({'subject':ii, 'accuracy':da[ii, jj], 'complexity': 3, 'model': 2})\n",
    "        accuracies.append({'subject':ii, 'accuracy':la[ii, jj], 'complexity': 3, 'model': 1})\n",
    "    \n",
    "ch = chance[1, :, -1].mean(axis=-1)\n",
    "da = other_deep_accuracy['c'][:, -1] / ch\n",
    "la = other_linear_accuracy['c'][:, -1] / ch\n",
    "for ii in range(4):\n",
    "    for jj in range(10):\n",
    "        accuracies.append({'subject':ii, 'accuracy':da[ii, jj], 'complexity': 2, 'model': 2})\n",
    "        accuracies.append({'subject':ii, 'accuracy':la[ii, jj], 'complexity': 2, 'model': 1})\n",
    "\n",
    "for ii, t in enumerate(['v', 'p', 'm']):\n",
    "    ch = chance[ii+2, :, -1].mean(axis=-1)\n",
    "    da = other_deep_accuracy[t][:, -1] / ch\n",
    "    la = other_linear_accuracy[t][:, -1] / ch\n",
    "    for ii in range(4):\n",
    "        for jj in range(10):\n",
    "            accuracies.append({'subject':ii, 'accuracy':da[ii, jj], 'complexity': 1, 'model': 2})\n",
    "            accuracies.append({'subject':ii, 'accuracy':la[ii, jj], 'complexity': 1, 'model': 1})\n",
    "df = pd.DataFrame.from_dict(accuracies)"
   ]
  },
  {
   "cell_type": "code",
   "execution_count": 8,
   "metadata": {},
   "outputs": [
    {
     "name": "stdout",
     "output_type": "stream",
     "text": [
      "                            OLS Regression Results                            \n",
      "==============================================================================\n",
      "Dep. Variable:               accuracy   R-squared:                       0.703\n",
      "Model:                            OLS   Adj. R-squared:                  0.697\n",
      "Method:                 Least Squares   F-statistic:                     115.8\n",
      "Date:                Tue, 13 Mar 2018   Prob (F-statistic):           3.45e-98\n",
      "Time:                        14:21:12   Log-Likelihood:                -896.49\n",
      "No. Observations:                 400   AIC:                             1811.\n",
      "Df Residuals:                     391   BIC:                             1847.\n",
      "Df Model:                           8                                         \n",
      "Covariance Type:            nonrobust                                         \n",
      "================================================================================================================================\n",
      "                                                                   coef    std err          t      P>|t|      [0.025      0.975]\n",
      "--------------------------------------------------------------------------------------------------------------------------------\n",
      "Intercept                                                        9.8005      0.415     23.618      0.000       8.985      10.616\n",
      "C(subject, Treatment(0))[T.1]                                   -4.4616      0.326    -13.706      0.000      -5.102      -3.822\n",
      "C(subject, Treatment(0))[T.2]                                   -3.7034      0.326    -11.377      0.000      -4.343      -3.063\n",
      "C(subject, Treatment(0))[T.3]                                   -2.0947      0.326     -6.435      0.000      -2.735      -1.455\n",
      "C(complexity, Treatment(3))[T.1]                                -5.6665      0.420    -13.484      0.000      -6.493      -4.840\n",
      "C(complexity, Treatment(3))[T.2]                                -3.2546      0.515     -6.323      0.000      -4.267      -2.243\n",
      "C(model, Treatment(1))[T.2]                                      3.8218      0.515      7.425      0.000       2.810       4.834\n",
      "C(complexity, Treatment(3))[T.1]:C(model, Treatment(1))[T.2]    -3.6438      0.594     -6.131      0.000      -4.812      -2.475\n",
      "C(complexity, Treatment(3))[T.2]:C(model, Treatment(1))[T.2]    -2.8134      0.728     -3.865      0.000      -4.244      -1.382\n",
      "==============================================================================\n",
      "Omnibus:                       94.051   Durbin-Watson:                   0.602\n",
      "Prob(Omnibus):                  0.000   Jarque-Bera (JB):              508.067\n",
      "Skew:                           0.876   Prob(JB):                    4.73e-111\n",
      "Kurtosis:                       8.236   Cond. No.                         13.8\n",
      "==============================================================================\n",
      "\n",
      "Warnings:\n",
      "[1] Standard Errors assume that the covariance matrix of the errors is correctly specified.\n",
      "\n",
      "The accuracy of the classifier depends on the subject, model type (deep network versus logistic regression), and task complexity (CV versus consonant versus {vowel, location, degree}) (ANOVA with subject, model type, task complexity, and model-task complexity interaction, f-value: 115.76280296345666, p: 3.446623871597261e-98). Within this ANOVA, all treatment coefficients were significant at p<.001 with Subject 1, CV task, and logistic regression as the baseline.\n"
     ]
    },
    {
     "data": {
      "image/png": "[encoded data removed]",
      "text/plain": [
       "<matplotlib.figure.Figure at 0x7f700c47b9e8>"
      ]
     },
     "metadata": {},
     "output_type": "display_data"
    }
   ],
   "source": [
    "formula = \"accuracy ~ C(subject, Treatment(0)) + C(complexity, Treatment(3)) * C(model, Treatment(1))\"\n",
    "lm = ols(formula, df)\n",
    "fit = lm.fit()\n",
    "qqplot(fit.resid)\n",
    "print(fit.summary())\n",
    "print('\\nThe accuracy of the classifier depends on the subject, ' +\n",
    "      'model type (deep network versus logistic regression), ' +\n",
    "      'and task complexity (CV versus consonant versus {vowel, location, degree}) ' +\n",
    "      '(ANOVA with subject, model type, task complexity, and model-task complexity interaction, ' +\n",
    "      'f-value: {}, p: {}). '.format(fit.fvalue, fit.f_pvalue) +\n",
    "      'Within this ANOVA, all treatment coefficients were significant ' +\n",
    "      'at p<.001 with Subject 1, CV task, and logistic regression as the baseline.')\n",
    "plt.show()"
   ]
  },
  {
   "cell_type": "markdown",
   "metadata": {},
   "source": [
    "# Results table"
   ]
  },
  {
   "cell_type": "code",
   "execution_count": 9,
   "metadata": {
    "scrolled": false
   },
   "outputs": [
    {
     "name": "stdout",
     "output_type": "stream",
     "text": [
      "(10, 57, 57)\n"
     ]
    },
    {
     "name": "stderr",
     "output_type": "stream",
     "text": [
      "/home/jesse/Development/cv_paper_plots/cv_paper_plots/accuracy.py:95: RuntimeWarning: invalid value encountered in true_divide\n",
      "  Iyhy = Pyhy * Py * np.log2(Pyhy/Pyh)\n",
      "/home/jesse/Development/cv_paper_plots/cv_paper_plots/accuracy.py:95: RuntimeWarning: divide by zero encountered in log2\n",
      "  Iyhy = Pyhy * Py * np.log2(Pyhy/Pyh)\n",
      "/home/jesse/Development/cv_paper_plots/cv_paper_plots/accuracy.py:95: RuntimeWarning: invalid value encountered in multiply\n",
      "  Iyhy = Pyhy * Py * np.log2(Pyhy/Pyh)\n"
     ]
    },
    {
     "name": "stdout",
     "output_type": "stream",
     "text": [
      "(10, 56, 56)\n",
      "(10, 54, 54)\n",
      "(10, 57, 57)\n"
     ]
    }
   ],
   "source": [
    "dcv_acc = deep_all[fracs[-1]][:, 2] * 100.\n",
    "lcv_acc = linear_all[fracs[-1]][:, 2] * 100.\n",
    "cv_chance = chance[0, :, -1].mean(axis=-1) * 100.\n",
    "dcv_cc = np.zeros(4)\n",
    "dcv_ncc = np.zeros(4)\n",
    "lcv_cc = np.zeros(4)\n",
    "lcv_ncc = np.zeros(4)\n",
    "\n",
    "dc_acc = other_deep_accuracy['c'][:, 2] * 100.\n",
    "lc_acc = other_linear_accuracy['c'][:, 2] * 100.\n",
    "c_chance = chance[1, :, -1].mean(axis=-1) * 100.\n",
    "dc_cc = np.zeros(4)\n",
    "dc_ncc = np.zeros(4)\n",
    "lc_cc = np.zeros(4)\n",
    "lc_ncc = np.zeros(4)\n",
    "\n",
    "dv_acc = other_deep_accuracy['v'][:, 2] * 100.\n",
    "lv_acc = other_linear_accuracy['v'][:, 2] * 100.\n",
    "v_chance = chance[2, :, -1].mean(axis=-1) * 100.\n",
    "dv_cc = np.zeros(4)\n",
    "dv_ncc = np.zeros(4)\n",
    "lv_cc = np.zeros(4)\n",
    "lv_ncc = np.zeros(4)\n",
    "\n",
    "for ii, s in enumerate(subjects):\n",
    "    print(deep_cv_mats[s].shape)\n",
    "    dcv_cc[ii] = accuracy.channel_capacity(deep_cv_mats[s].mean(axis=0))\n",
    "    dcv_ncc[ii] = accuracy.naive_channel_capacity(dcv_acc[ii].mean()/100., deep_cv_mats[s].shape[-1]+1)\n",
    "    lcv_cc[ii] = accuracy.channel_capacity(linear_cv_mats[s].mean(axis=0))\n",
    "    lcv_ncc[ii] = accuracy.naive_channel_capacity(lcv_acc[ii].mean()/100., linear_cv_mats[s].shape[-1]+1)\n",
    "    \n",
    "    dc_cc[ii] = accuracy.channel_capacity(deep_c_mats[s].mean(axis=0))\n",
    "    dc_ncc[ii] = accuracy.naive_channel_capacity(dc_acc[ii].mean()/100., deep_c_mats[s].shape[-1]+1)\n",
    "    lc_cc[ii] = accuracy.channel_capacity(linear_c_mats[s].mean(axis=0))\n",
    "    lc_ncc[ii] = accuracy.naive_channel_capacity(lc_acc[ii].mean()/100., linear_c_mats[s].shape[-1]+1)\n",
    "    \n",
    "    dv_cc[ii] = accuracy.channel_capacity(deep_v_mats[s].mean(axis=0))\n",
    "    dv_ncc[ii] = accuracy.naive_channel_capacity(dv_acc[ii].mean()/100., deep_v_mats[s].shape[-1]+1)\n",
    "    lv_cc[ii] = accuracy.channel_capacity(linear_v_mats[s].mean(axis=0))\n",
    "    lv_ncc[ii] = accuracy.naive_channel_capacity(lv_acc[ii].mean()/100., linear_v_mats[s].shape[-1]+1)"
   ]
  },
  {
   "cell_type": "code",
   "execution_count": 10,
   "metadata": {},
   "outputs": [
    {
     "name": "stdout",
     "output_type": "stream",
     "text": [
      "Deep network, 57 CV, single subj.         &38.3 $\\pm$ 2.9\\% & 21.5x & 1.3 (3.09 exact) \\\\\n",
      "Deep network, 57 CV, subj. average        &19.9 $\\pm$ 12.6\\% & 11.1x & 0.53 (2.18 exact) \\\\\n",
      "Logistic Regression, 57 CV, single subj.  &23.6 $\\pm$ 2.1\\% & 13.2x & 0.61 (2.47 exact) \\\\\n",
      "Logistic Regression, 57 CV, subj. average &13.1 $\\pm$ 7.4\\% & 7.2x & 0.26 (1.91 exact) \\\\\n",
      "\\hline\n",
      "Deep network, 19 cons., single subj.         &44.9 $\\pm$ 3.0\\% & 8.5x & 0.99 (1.9 exact) \\\\\n",
      "Deep network, 19 cons., subj. average        &26.8 $\\pm$ 12.6\\% & 5.0x & 0.43 (1.03 exact) \\\\\n",
      "Logistic Regression, 19 cons., single subj.  &34.0 $\\pm$ 1.5\\% & 6.4x & 0.59 (1.35 exact) \\\\\n",
      "Logistic Regression, 19 cons., subj. average &21.4 $\\pm$ 8.7\\% & 4.0x & 0.27 (0.75 exact) \\\\\n",
      "LDA~\\cite{mugler2014}, 24 cons., single subj.  &36.1\\% & 4.9x & 0.75 \\\\\n",
      "LDA~\\cite{mugler2014}, 24 cons., subj. average &20.4 $\\pm$ 9.8\\% & 2.8x & 0.25 \\\\\n",
      "\\hline\n",
      "Deep network, 3 vowels, single subj.         &71.1 $\\pm$ 1.9\\% & 2.1x & 0.67 (0.44 exact) \\\\\n",
      "Deep network, 3 vowels, subj. average        &51.7 $\\pm$ 12.1\\% & 1.6x & 0.28 (0.15 exact) \\\\\n",
      "Logistic Regression, 3 vowels, single subj.  &59.8 $\\pm$ 2.1\\% & 1.8x & 0.39 (0.21 exact) \\\\\n",
      "Logistic Regression, 3 vowels, subj. average &45.7 $\\pm$ 8.8\\% & 1.4x & 0.16 (0.07 exact) \\\\\n",
      "LDA~\\cite{mugler2014}, 15 vowels, single subj.  &23.9\\% & 1.9x & 0.22 \\\\\n",
      "LDA~\\cite{mugler2014}, 15 vowels, subj. average &19.2 $\\pm$ 3.7\\% & 1.5x & 0.12 \\\\\n",
      "\n"
     ]
    }
   ],
   "source": [
    "mugler2014 = {'consonant_single': 36.1,\n",
    "              'consonant_avg': 20.4,\n",
    "              'consonant_avg_pm': 9.8,\n",
    "              'consonant_chance': 7.4,\n",
    "              'vowel_single': 23.9,\n",
    "              'vowel_avg': 19.2,\n",
    "              'vowel_avg_pm': 3.7,\n",
    "              'vowel_chance': 12.9}\n",
    "mugler2014['consonant_single_cc'] = accuracy.naive_channel_capacity(mugler2014['consonant_single']/100., 24)\n",
    "mugler2014['consonant_avg_cc'] = accuracy.naive_channel_capacity(mugler2014['consonant_avg']/100., 24)\n",
    "mugler2014['vowel_single_cc'] = accuracy.naive_channel_capacity(mugler2014['vowel_single']/100., 15)\n",
    "mugler2014['vowel_avg_cc'] = accuracy.naive_channel_capacity(mugler2014['vowel_avg']/100., 15)\n",
    "\n",
    "def format_string(string, *data):\n",
    "    acc, std, ac, ncc, cc = data\n",
    "    return string.format(np.around(acc, 1), np.around(std, 1), np.around(ac, 1), np.around(ncc, 2), np.around(cc, 2))\n",
    "\n",
    "d_cv1 = \"Deep network, 57 CV, single subj.         &{} $\\pm$ {}\\% & {}x & {} ({} exact) \\\\\\\\\\n\"\n",
    "d_cv2 = \"Deep network, 57 CV, subj. average        &{} $\\pm$ {}\\% & {}x & {} ({} exact) \\\\\\\\\\n\"\n",
    "d_cv1 = format_string(d_cv1, dcv_acc[0].mean(), dcv_acc[0].std(),\n",
    "                      (dcv_acc[0]/cv_chance[0]).mean(),\n",
    "                      dcv_ncc[0], dcv_cc[0])\n",
    "d_cv2 = format_string(d_cv2, dcv_acc.mean(), dcv_acc.std(),\n",
    "                      (dcv_acc/cv_chance).mean(),\n",
    "                      dcv_ncc.mean(), dcv_cc.mean())\n",
    "l_cv1 = \"Logistic Regression, 57 CV, single subj.  &{} $\\pm$ {}\\% & {}x & {} ({} exact) \\\\\\\\\\n\"\n",
    "l_cv2 = \"Logistic Regression, 57 CV, subj. average &{} $\\pm$ {}\\% & {}x & {} ({} exact) \\\\\\\\\\n\"\n",
    "l_cv1 = format_string(l_cv1, lcv_acc[0].mean(), lcv_acc[0].std(),\n",
    "                      (lcv_acc[0]/cv_chance[0]).mean(),\n",
    "                      lcv_ncc[0], lcv_cc[0])\n",
    "l_cv2 = format_string(l_cv2, lcv_acc.mean(), lcv_acc.std(),\n",
    "                      (lcv_acc/cv_chance).mean(),\n",
    "                      lcv_ncc.mean(), lcv_cc.mean())\n",
    "hline = \"\\\\hline\\n\"\n",
    "d_c1 = \"Deep network, 19 cons., single subj.         &{} $\\pm$ {}\\% & {}x & {} ({} exact) \\\\\\\\\\n\"\n",
    "d_c2 = \"Deep network, 19 cons., subj. average        &{} $\\pm$ {}\\% & {}x & {} ({} exact) \\\\\\\\\\n\"\n",
    "d_c1 = format_string(d_c1, dc_acc[0].mean(), dc_acc[0].std(),\n",
    "                      (dc_acc[0]/c_chance[0]).mean(),\n",
    "                      dc_ncc[0], dc_cc[0])\n",
    "d_c2 = format_string(d_c2, dc_acc.mean(), dc_acc.std(),\n",
    "                      (dc_acc/c_chance).mean(),\n",
    "                      dc_ncc.mean(), dc_cc.mean())\n",
    "l_c1 = \"Logistic Regression, 19 cons., single subj.  &{} $\\pm$ {}\\% & {}x & {} ({} exact) \\\\\\\\\\n\"\n",
    "l_c2 = \"Logistic Regression, 19 cons., subj. average &{} $\\pm$ {}\\% & {}x & {} ({} exact) \\\\\\\\\\n\"\n",
    "l_c1 = format_string(l_c1, lc_acc[0].mean(), lc_acc[0].std(),\n",
    "                      (lc_acc[0]/c_chance[0]).mean(),\n",
    "                      lc_ncc[0], lc_cc[0])\n",
    "l_c2 = format_string(l_c2, lc_acc.mean(), lc_acc.std(),\n",
    "                      (lc_acc/c_chance).mean(),\n",
    "                      lc_ncc.mean(), lc_cc.mean())\n",
    "m_c = (\"LDA~\\cite{{mugler2014}}, 24 cons., single subj.  &{}\\% & {}x & {} \\\\\\\\\\n\" +\n",
    "       \"LDA~\\cite{{mugler2014}}, 24 cons., subj. average &{} $\\pm$ {}\\% & {}x & {} \\\\\\\\\\n\")\n",
    "m_c = m_c.format(np.around(mugler2014['consonant_single'], 1),\n",
    "                 np.around(mugler2014['consonant_single']/mugler2014['consonant_chance'], 1),\n",
    "                 np.around(mugler2014['consonant_single_cc'][0], 2),\n",
    "                 np.around(mugler2014['consonant_avg'], 1),\n",
    "                 np.around(mugler2014['consonant_avg_pm'], 1),\n",
    "                 np.around(mugler2014['consonant_avg']/mugler2014['consonant_chance'], 1),\n",
    "                 np.around(mugler2014['consonant_avg_cc'][0], 2))\n",
    "d_v1 = \"Deep network, 3 vowels, single subj.         &{} $\\pm$ {}\\% & {}x & {} ({} exact) \\\\\\\\\\n\"\n",
    "d_v2 = \"Deep network, 3 vowels, subj. average        &{} $\\pm$ {}\\% & {}x & {} ({} exact) \\\\\\\\\\n\"\n",
    "d_v1 = format_string(d_v1, dv_acc[0].mean(), dv_acc[0].std(),\n",
    "                      (dv_acc[0]/v_chance[0]).mean(),\n",
    "                      dv_ncc[0], dv_cc[0])\n",
    "d_v2 = format_string(d_v2, dv_acc.mean(), dv_acc.std(),\n",
    "                      (dv_acc/v_chance).mean(),\n",
    "                      dv_ncc.mean(), dv_cc.mean())\n",
    "l_v1 = \"Logistic Regression, 3 vowels, single subj.  &{} $\\pm$ {}\\% & {}x & {} ({} exact) \\\\\\\\\\n\"\n",
    "l_v2 = \"Logistic Regression, 3 vowels, subj. average &{} $\\pm$ {}\\% & {}x & {} ({} exact) \\\\\\\\\\n\"\n",
    "l_v1 = format_string(l_v1, lv_acc[0].mean(), lv_acc[0].std(),\n",
    "                      (lv_acc[0]/v_chance[0]).mean(),\n",
    "                      lv_ncc[0], lv_cc[0])\n",
    "l_v2 = format_string(l_v2, lv_acc.mean(), lv_acc.std(),\n",
    "                      (lv_acc/v_chance).mean(),\n",
    "                      lv_ncc.mean(), lv_cc.mean())\n",
    "m_v = (\"LDA~\\cite{{mugler2014}}, 15 vowels, single subj.  &{}\\% & {}x & {} \\\\\\\\\\n\" +\n",
    "       \"LDA~\\cite{{mugler2014}}, 15 vowels, subj. average &{} $\\pm$ {}\\% & {}x & {} \\\\\\\\\\n\")\n",
    "m_v = m_v.format(np.around(mugler2014['vowel_single'], 1),\n",
    "                 np.around(mugler2014['vowel_single']/mugler2014['vowel_chance'], 1),\n",
    "                 np.around(mugler2014['vowel_single_cc'][0], 2),\n",
    "                 np.around(mugler2014['vowel_avg'], 1),\n",
    "                 np.around(mugler2014['vowel_avg_pm'], 1),\n",
    "                 np.around(mugler2014['vowel_avg']/mugler2014['vowel_chance'], 1),\n",
    "                 np.around(mugler2014['vowel_avg_cc'][0], 2))\n",
    "print(d_cv1 + d_cv2 + l_cv1 + l_cv2 + hline +\n",
    "      d_c1 + d_c2 + l_c1 + l_c2 + m_c + hline +\n",
    "      d_v1 + d_v2 + l_v1 + l_v2 + m_v)"
   ]
  },
  {
   "cell_type": "markdown",
   "metadata": {
    "collapsed": true
   },
   "source": [
    "# CV Slope"
   ]
  },
  {
   "cell_type": "code",
   "execution_count": 10,
   "metadata": {
    "scrolled": false
   },
   "outputs": [
    {
     "name": "stdout",
     "output_type": "stream",
     "text": [
      "(6, 10) (6, 10)\n",
      "(6, 10) (6, 10)\n",
      "(6, 10) (6, 10)\n",
      "(6, 10) (6, 10)\n",
      "                            OLS Regression Results                            \n",
      "==============================================================================\n",
      "Dep. Variable:                  slope   R-squared:                       0.621\n",
      "Model:                            OLS   Adj. R-squared:                  0.601\n",
      "Method:                 Least Squares   F-statistic:                     30.69\n",
      "Date:                Tue, 13 Mar 2018   Prob (F-statistic):           3.92e-15\n",
      "Time:                        10:53:40   Log-Likelihood:                -181.43\n",
      "No. Observations:                  80   AIC:                             372.9\n",
      "Df Residuals:                      75   BIC:                             384.8\n",
      "Df Model:                           4                                         \n",
      "Covariance Type:            nonrobust                                         \n",
      "===================================================================================================\n",
      "                                      coef    std err          t      P>|t|      [0.025      0.975]\n",
      "---------------------------------------------------------------------------------------------------\n",
      "Intercept                           3.5539      0.603      5.889      0.000       2.352       4.756\n",
      "C(model, Treatment(0))[T.1.0]       2.4131      0.540      4.471      0.000       1.338       3.488\n",
      "C(subject, Treatment(0))[T.1.0]    -2.8200      0.763     -3.694      0.000      -4.341      -1.299\n",
      "C(subject, Treatment(0))[T.2.0]    -4.2116      0.763     -5.517      0.000      -5.732      -2.691\n",
      "C(subject, Treatment(0))[T.3.0]     2.9148      0.763      3.818      0.000       1.394       4.435\n",
      "==============================================================================\n",
      "Omnibus:                        3.014   Durbin-Watson:                   1.789\n",
      "Prob(Omnibus):                  0.222   Jarque-Bera (JB):                2.884\n",
      "Skew:                          -0.055   Prob(JB):                        0.236\n",
      "Kurtosis:                       3.923   Cond. No.                         5.39\n",
      "==============================================================================\n",
      "\n",
      "Warnings:\n",
      "[1] Standard Errors assume that the covariance matrix of the errors is correctly specified.\n",
      "0.000428433864638\n",
      "0.465775170163\n",
      "0.0549729455434\n",
      "0.0137118532013\n",
      "Deep networks scale better with dataset size than logistic regression with an improvement of 4.9x $\\pm$ 3.7  and 2.5x $\\pm$ 1.8 over chance per 1000 training samples respectively. This improvement is summarized across subjects in Fig \\ref{fig:slope}B. For the subject with highest accuracy (Subject 1), the change in accuracy over chance per 1000 training examples for deep networks and logistic regression are 6.4x $\\pm$ 0.6 and 3.1x $\\pm$ 0.6 respectively. For the subject with highest slope (Subject 4), the change in accuracy over chance per 1000 training examples for deep networks and logistic regression are 10.2x $\\pm$ 1.3 and 5.1x $\\pm$ 1.3 respectively.\n"
     ]
    },
    {
     "data": {
      "image/png": "[encoded data removed]",
      "text/plain": [
       "<matplotlib.figure.Figure at 0x7fac94aa4240>"
      ]
     },
     "metadata": {},
     "output_type": "display_data"
    }
   ],
   "source": [
    "# reload(accuracy)\n",
    "reload(slope)\n",
    "plt.close()\n",
    "f = plt.figure(figsize=(5, 4))\n",
    "\n",
    "le = .1\n",
    "re = .02\n",
    "te = .1\n",
    "be = .11\n",
    "h_gap = .125\n",
    "\n",
    "w = .55\n",
    "h = 1. - te - be\n",
    "\n",
    "ax_lines = f.add_axes([le, be, w, h])\n",
    "ax_slopes = f.add_axes([le + w + h_gap, be, 1. - w - h_gap - le - re, h])\n",
    "\n",
    "key = fracs[-1]\n",
    "\n",
    "slope.plot_cv_slope(subjects, deep_all, linear_all, chance[0], training_size, fracs, (ax_lines, ax_slopes),\n",
    "                    legend=True)\n",
    "\n",
    "x0 = .05\n",
    "y0 = 1. - te + .01\n",
    "x1 = le + w + h_gap - .075\n",
    "\n",
    "f.text(x0, y0, 'A', **letter_fontstyle)\n",
    "f.text(x1, y0, 'B', **letter_fontstyle)\n",
    "\n",
    "plt.savefig(os.path.join(os.environ['HOME'], 'Downloads/slope.pdf'))\n",
    "plt.savefig(os.path.join(os.environ['HOME'], 'Downloads/slope.png'), dpi=300)"
   ]
  },
  {
   "cell_type": "code",
   "execution_count": null,
   "metadata": {
    "collapsed": true
   },
   "outputs": [],
   "source": []
  }
 ],
 "metadata": {
  "kernelspec": {
   "display_name": "Python 3",
   "language": "python",
   "name": "python3"
  },
  "language_info": {
   "codemirror_mode": {
    "name": "ipython",
    "version": 3
   },
   "file_extension": ".py",
   "mimetype": "text/x-python",
   "name": "python",
   "nbconvert_exporter": "python",
   "pygments_lexer": "ipython3",
   "version": "3.6.1"
  }
 },
 "nbformat": 4,
 "nbformat_minor": 2
}
