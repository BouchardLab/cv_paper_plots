{
 "cells": [
  {
   "cell_type": "code",
   "execution_count": 25,
   "metadata": {},
   "outputs": [],
   "source": [
    "import pickle, os\n",
    "import numpy as np\n",
    "import matplotlib.pyplot as plt\n",
    "import pandas as pd\n",
    "%matplotlib inline\n",
    "\n",
    "from cv_paper_plots import accuracy, slope, analysis\n",
    "\n",
    "from cv_paper_plots.style import letter_fontstyle, subject_labels\n",
    "\n",
    "from importlib import reload\n",
    "\n",
    "import scipy.stats as stats\n",
    "from statsmodels.formula.api import ols\n",
    "from statsmodels.graphics.gofplots import qqplot"
   ]
  },
  {
   "cell_type": "code",
   "execution_count": 26,
   "metadata": {},
   "outputs": [],
   "source": [
    "subjects = ['ec2', 'ec9', 'gp31', 'gp33']"
   ]
  },
  {
   "cell_type": "markdown",
   "metadata": {},
   "source": [
    "# ff"
   ]
  },
  {
   "cell_type": "code",
   "execution_count": 27,
   "metadata": {},
   "outputs": [],
   "source": [
    "with open(os.path.join(os.environ['HOME'], 'plots_ff/model/data/frac_results_avg_ff.pkl'), 'rb') as f:\n",
    "    deep_all, linear_all = pickle.load(f, encoding='latin1')\n",
    "\n",
    "d = np.load(os.path.join(os.environ['HOME'], 'plots/ds/data/dataset_chance.npz'))\n",
    "chance = d['chance_data']\n",
    "training_size = d['training_size']\n",
    "fracs = sorted(deep_all.keys())\n",
    "\n",
    "output = 'plots_ff/model/data/{}_{}_hg{}_model_output.pkl'\n",
    "\n",
    "vmax = 3.\n",
    "cmax = 12."
   ]
  },
  {
   "cell_type": "markdown",
   "metadata": {},
   "source": [
    "# Old"
   ]
  },
  {
   "cell_type": "code",
   "execution_count": 33,
   "metadata": {},
   "outputs": [],
   "source": [
    "with open(os.path.join(os.environ['HOME'], 'plots/model/data/frac_results.pkl'), 'rb') as f:\n",
    "    deep_all, linear_all, _ = pickle.load(f, encoding='latin1')\n",
    "\n",
    "d = np.load(os.path.join(os.environ['HOME'], 'plots/ds/data/dataset_chance.npz'))\n",
    "chance = d['chance_data']\n",
    "training_size = d['training_size']\n",
    "fracs = sorted(deep_all.keys())\n",
    "\n",
    "output = 'plots/model/data/{}_{}_hg_a{}_model_output.pkl'\n",
    "\n",
    "vmax = 2.8\n",
    "cmax = 9.2\n",
    "\n",
    "vmax = 3.\n",
    "cmax = 12."
   ]
  },
  {
   "cell_type": "code",
   "execution_count": 28,
   "metadata": {},
   "outputs": [],
   "source": [
    "other_linear_accuracy = {}\n",
    "other_deep_accuracy = {}\n",
    "linear_cv_mats = {}\n",
    "deep_cv_mats = {}\n",
    "linear_c_mats = {}\n",
    "deep_c_mats = {}\n",
    "linear_v_mats = {}\n",
    "deep_v_mats = {}\n",
    "deep_cv_stats = {}\n",
    "linear_cv_stats = {}\n",
    "for key in ['c', 'v', 'p', 'm']:\n",
    "    other_linear_accuracy[key] = np.zeros((len(subjects), 3, 10))\n",
    "    other_deep_accuracy[key] = np.zeros((len(subjects), 3, 10))\n",
    "for key in ['sens', 'spec', 'prec', 'f1']:\n",
    "    deep_cv_stats[key] = np.zeros((len(subjects), 10))\n",
    "    linear_cv_stats[key] = np.zeros((len(subjects), 10))\n",
    "for ii, s in enumerate(subjects):\n",
    "    for style in ['_lin', '']:\n",
    "        f_string = output.format(s, s, style)\n",
    "        with open(os.path.join(os.environ['HOME'], f_string), 'rb') as f:\n",
    "            dicts, dicts2, y_dims, has_data = pickle.load(f, encoding='latin1')\n",
    "        indices_dicts2, y_hat_dicts2, logits_dicts2 = dicts2\n",
    "        mats = analysis.indx_dict2conf_mat(indices_dicts2, y_dims)\n",
    "        c_mat, v_mat, cv_mat = mats\n",
    "        acc = analysis.conf_mat2accuracy(c_mat, v_mat, cv_mat)\n",
    "        acc, (cv_sens, cv_spec, cv_prec, cv_f1) = acc\n",
    "        (c_accuracy, v_accuracy, accuracy_per_cv,\n",
    "         p_accuracy, m_accuracy) = acc\n",
    "        cv_mat_r = analysis.indx_dict2reduced_cv_conf_mat(dicts[1],\n",
    "                                                          list(dicts[1][0].values())[0][0].max()+1)\n",
    "        if style == '_lin':\n",
    "            d = other_linear_accuracy\n",
    "            mat_d = linear_cv_mats\n",
    "            mat_d_c = linear_c_mats\n",
    "            mat_d_v = linear_v_mats\n",
    "            stats_d = linear_cv_stats\n",
    "        else:\n",
    "            d = other_deep_accuracy\n",
    "            mat_d = deep_cv_mats\n",
    "            mat_d_c = deep_c_mats\n",
    "            mat_d_v = deep_v_mats\n",
    "            stats_d = deep_cv_stats\n",
    "        d['c'][ii, 2] = c_accuracy\n",
    "        d['v'][ii, 2] = v_accuracy\n",
    "        d['p'][ii, 2] = p_accuracy\n",
    "        d['m'][ii, 2] = m_accuracy\n",
    "        mat_d[s] = cv_mat_r\n",
    "        mat_d_c[s] = c_mat\n",
    "        mat_d_v[s] = v_mat\n",
    "        stats_d['sens'][ii] = cv_sens\n",
    "        stats_d['spec'][ii] = cv_spec\n",
    "        stats_d['prec'][ii] = cv_prec\n",
    "        stats_d['f1'][ii] = cv_f1"
   ]
  },
  {
   "cell_type": "markdown",
   "metadata": {},
   "source": [
    "# CV Accuracy"
   ]
  },
  {
   "cell_type": "code",
   "execution_count": 17,
   "metadata": {
    "scrolled": false
   },
   "outputs": [
    {
     "name": "stdout",
     "output_type": "stream",
     "text": [
      "Subject 1: p=0.020248128505071458, hg: 30.983449546656836, delta: 5.8921156616664945\n",
      "Subject 2: p=0.45651331104895454, hg: 8.156987350023462, delta: 0.7919257121292489\n",
      "Subject 3: p=0.020248128505071458, hg: 11.164585947986557, delta: 1.5529967522789665\n",
      "Subject 4: p=0.020248128505071458, hg: 24.233864495112922, delta: 4.340659031775058\n",
      "all subject: p=8.229417452379299e-07\n",
      "The highest deep network accuracy for a single subject on the consonant vowel task is for Subject 1 which is 55.1 $\\pm$ 2.3\\% (31.0 times chance, 1.8\\%) and 44.6 $\\pm$ 3.2\\% (25.1 times chance, 1.8\\%) for logistic regression and deep networks respectively, which is a 24.0\\% improvement. Mean consonant vowel classification accuracy across subjects (XX way) with deep networks is 33.7 $\\pm$ 16.4\\%. For logistic regression, it is 28.0 $\\pm$ 12.9\\%.\n",
      "\n",
      "The highest deep network accuracy for a single subject on the consonant task is for Subject 1 which is 59.0 $\\pm$ 2.2\\% (11.1 times chance, 5.3\\%) and 51.2 $\\pm$ 1.8\\% (9.7 times chance, 5.3\\%) for logistic regression and deep networks respectively, which is a 15.3\\% improvement. Mean consonant classification accuracy across subjects (XX way) with deep networks is 41.2 $\\pm$ 14.3\\%. For logistic regression, it is 36.5 $\\pm$ 12.3\\%.\n",
      "\n",
      "The highest deep network accuracy for a single subject on the vowel task is for Subject 1 which is 85.9 $\\pm$ 2.3\\% (2.6 times chance, 33.3\\%) and 78.7 $\\pm$ 2.6\\% (2.4 times chance, 33.3\\%) for logistic regression and deep networks respectively, which is a 9.2\\% improvement. Mean vowel classification accuracy across subjects (XX way) with deep networks is 67.3 $\\pm$ 13.1\\%. For logistic regression, it is 61.3 $\\pm$ 11.8\\%.\n",
      "\n",
      "The highest deep network accuracy for a single subject on the constriction location task is for Subject 1 which is 95.6 $\\pm$ 2.6\\% (2.8 times chance, 34.5\\%) and 92.4 $\\pm$ 2.0\\% (2.7 times chance, 34.5\\%) for logistic regression and deep networks respectively, which is a 3.5\\% improvement. Mean constriction location classification accuracy across subjects (XX way) with deep networks is 81.5 $\\pm$ 10.6\\%. For logistic regression, it is 78.9 $\\pm$ 10.2\\%.\n",
      "\n",
      "The highest deep network accuracy for a single subject on the constriction degree task is for Subject 1 which is 85.3 $\\pm$ 2.3\\% (2.5 times chance, 34.7\\%) and 82.2 $\\pm$ 3.5\\% (2.4 times chance, 34.7\\%) for logistic regression and deep networks respectively, which is a 3.9\\% improvement. Mean constriction degree classification accuracy across subjects (XX way) with deep networks is 71.4 $\\pm$ 11.9\\%. For logistic regression, it is 68.2 $\\pm$ 12.0\\%.\n",
      "\n"
     ]
    },
    {
     "data": {
      "image/png": "[encoded data removed]",
      "text/plain": [
       "<matplotlib.figure.Figure at 0x7ff64dbda3c8>"
      ]
     },
     "metadata": {},
     "output_type": "display_data"
    }
   ],
   "source": [
    "reload(accuracy)\n",
    "reload(slope)\n",
    "plt.close()\n",
    "f = plt.figure(figsize=(5, 4))\n",
    "\n",
    "le = .1\n",
    "re = .02\n",
    "te = .1\n",
    "be = .075\n",
    "h_gap = .1\n",
    "v_gap = .2\n",
    "\n",
    "cv_w = .3\n",
    "big_h = (1. - te - be)\n",
    "little_h = (1. - te - be - v_gap) / 2.\n",
    "w = (1. - le - cv_w - h_gap - h_gap - re) / 2.\n",
    "\n",
    "p_m_y = be + little_h + v_gap\n",
    "ax_p = f.add_axes([le, p_m_y, w, little_h])\n",
    "ax_m = f.add_axes([le + w + h_gap, p_m_y, w, little_h])\n",
    "\n",
    "ax_v = f.add_axes([le, be, w, little_h])\n",
    "ax_c = f.add_axes([le + w + h_gap, be, w, little_h])\n",
    "\n",
    "ax_cv = f.add_axes([1. - re - cv_w, be, cv_w, big_h])\n",
    "\n",
    "key = fracs[-1]\n",
    "\n",
    "accuracy.plot_cv_accuracy(subjects, deep_all[key], linear_all[key], chance[0, :, -1], ax_cv, legend=True,\n",
    "                          show_significance=True)\n",
    "\n",
    "accuracy.plot_cv_accuracy(subjects, other_deep_accuracy['c'], other_linear_accuracy['c'],\n",
    "                          chance[1, :, -1], ax_c, 'Consonant', False, ymax=cmax)\n",
    "accuracy.plot_cv_accuracy(subjects, other_deep_accuracy['v'], other_linear_accuracy['v'],\n",
    "                          chance[2, :, -1], ax_v, 'Vowel', False, ymax=vmax)\n",
    "\n",
    "accuracy.plot_cv_accuracy(subjects, other_deep_accuracy['p'], other_linear_accuracy['p'],\n",
    "                          chance[3, :, -1], ax_p, 'Constriction\\nLocation', False, ymax=vmax)\n",
    "accuracy.plot_cv_accuracy(subjects, other_deep_accuracy['m'], other_linear_accuracy['m'],\n",
    "                          chance[4, :, -1], ax_m, 'Constriction\\nDegree', False, ymax=vmax)\n",
    "\n",
    "x0 = le - .05\n",
    "y0 = p_m_y + little_h + .02\n",
    "x1 = le + w + h_gap - .05\n",
    "y1 = be + little_h + .02\n",
    "x2 = 1. - re - cv_w - .05\n",
    "\n",
    "f.text(x0, y0, 'A', **letter_fontstyle)\n",
    "f.text(x1, y0, 'B', **letter_fontstyle)\n",
    "f.text(x0, y1, 'C', **letter_fontstyle)\n",
    "f.text(x1, y1, 'D', **letter_fontstyle)\n",
    "f.text(x2, y0, 'E', **letter_fontstyle)\n",
    "\n",
    "plt.savefig(os.path.join(os.environ['HOME'], 'Downloads/accuracy.eps'), dpi=300)\n",
    "plt.savefig(os.path.join(os.environ['HOME'], 'Downloads/accuracy.png'), dpi=300)"
   ]
  },
  {
   "cell_type": "markdown",
   "metadata": {},
   "source": [
    "# ANOVA improvement dependence on subject, model, task"
   ]
  },
  {
   "cell_type": "code",
   "execution_count": 7,
   "metadata": {},
   "outputs": [],
   "source": [
    "accuracies = []\n",
    "\n",
    "ch = chance[0, :, -1].mean(axis=-1)\n",
    "da = deep_all[key][:, -1] / ch\n",
    "la = linear_all[key][:, -1] / ch\n",
    "\n",
    "for ii in range(4):\n",
    "    for jj in range(10):\n",
    "        accuracies.append({'subject':ii, 'accuracy':da[ii, jj],\n",
    "                           'complexity': 3, 'model': 2})\n",
    "        accuracies.append({'subject':ii, 'accuracy':la[ii, jj],\n",
    "                           'complexity': 3, 'model': 1})\n",
    "    \n",
    "ch = chance[1, :, -1].mean(axis=-1)\n",
    "da = other_deep_accuracy['c'][:, -1] / ch\n",
    "la = other_linear_accuracy['c'][:, -1] / ch\n",
    "for ii in range(4):\n",
    "    for jj in range(10):\n",
    "        accuracies.append({'subject':ii, 'accuracy':da[ii, jj],\n",
    "                           'complexity': 2, 'model': 2})\n",
    "        accuracies.append({'subject':ii, 'accuracy':la[ii, jj],\n",
    "                           'complexity': 2, 'model': 1})\n",
    "\n",
    "for ii, t in enumerate(['v', 'p', 'm']):\n",
    "    ch = chance[ii+2, :, -1].mean(axis=-1)\n",
    "    da = other_deep_accuracy[t][:, -1] / ch\n",
    "    la = other_linear_accuracy[t][:, -1] / ch\n",
    "    for ii in range(4):\n",
    "        for jj in range(10):\n",
    "            accuracies.append({'subject':ii, 'accuracy':da[ii, jj],\n",
    "                               'complexity': 1, 'model': 2})\n",
    "            accuracies.append({'subject':ii, 'accuracy':la[ii, jj],\n",
    "                               'complexity': 1, 'model': 1})\n",
    "df = pd.DataFrame.from_dict(accuracies)"
   ]
  },
  {
   "cell_type": "code",
   "execution_count": 8,
   "metadata": {
    "scrolled": false
   },
   "outputs": [
    {
     "name": "stdout",
     "output_type": "stream",
     "text": [
      "                            OLS Regression Results                            \n",
      "==============================================================================\n",
      "Dep. Variable:               accuracy   R-squared:                       0.784\n",
      "Model:                            OLS   Adj. R-squared:                  0.779\n",
      "Method:                 Least Squares   F-statistic:                     177.0\n",
      "Date:                Mon, 03 Dec 2018   Prob (F-statistic):          6.92e-125\n",
      "Time:                        16:24:24   Log-Likelihood:                -1047.6\n",
      "No. Observations:                 400   AIC:                             2113.\n",
      "Df Residuals:                     391   BIC:                             2149.\n",
      "Df Model:                           8                                         \n",
      "Covariance Type:            nonrobust                                         \n",
      "================================================================================================================================\n",
      "                                                                   coef    std err          t      P>|t|      [0.025      0.975]\n",
      "--------------------------------------------------------------------------------------------------------------------------------\n",
      "Intercept                                                       18.5857      0.605     30.702      0.000      17.396      19.776\n",
      "C(subject, Treatment(0))[T.1]                                   -5.7723      0.475    -12.155      0.000      -6.706      -4.839\n",
      "C(subject, Treatment(0))[T.2]                                   -4.8641      0.475    -10.243      0.000      -5.798      -3.930\n",
      "C(subject, Treatment(0))[T.3]                                   -1.7452      0.475     -3.675      0.000      -2.679      -0.812\n",
      "C(complexity, Treatment(3))[T.1]                               -13.4608      0.613    -21.956      0.000     -14.666     -12.255\n",
      "C(complexity, Treatment(3))[T.2]                                -8.6957      0.751    -11.581      0.000     -10.172      -7.219\n",
      "C(model, Treatment(1))[T.2]                                      3.1444      0.751      4.188      0.000       1.668       4.621\n",
      "C(complexity, Treatment(3))[T.1]:C(model, Treatment(1))[T.2]    -3.0282      0.867     -3.493      0.001      -4.733      -1.324\n",
      "C(complexity, Treatment(3))[T.2]:C(model, Treatment(1))[T.2]    -2.2729      1.062     -2.140      0.033      -4.361      -0.185\n",
      "==============================================================================\n",
      "Omnibus:                       34.883   Durbin-Watson:                   0.323\n",
      "Prob(Omnibus):                  0.000   Jarque-Bera (JB):               82.289\n",
      "Skew:                           0.442   Prob(JB):                     1.35e-18\n",
      "Kurtosis:                       5.038   Cond. No.                         13.8\n",
      "==============================================================================\n",
      "\n",
      "Warnings:\n",
      "[1] Standard Errors assume that the covariance matrix of the errors is correctly specified.\n",
      "\n",
      "The accuracy of the classifier depends on the subject, model type (deep network versus logistic regression), and task complexity (CV versus consonant versus {vowel, location, degree}) (ANOVA with subject, model type, task complexity, and model-task complexity interaction, f-value: 176.9675463688001, p: 6.91945922195142e-125). Within this ANOVA, all treatment coefficients were significant at p<.001 with Subject 1, CV task, and logistic regression as the baseline.\n",
      "\\begin{center}\n",
      "\\begin{tabular}{lclc}\n",
      "\\toprule\n",
      "\\textbf{Dep. Variable:}    &     accuracy     & \\textbf{  R-squared:         } &     0.784  \\\\\n",
      "\\textbf{Model:}            &       OLS        & \\textbf{  Adj. R-squared:    } &     0.779  \\\\\n",
      "\\textbf{Method:}           &  Least Squares   & \\textbf{  F-statistic:       } &     177.0  \\\\\n",
      "\\textbf{Date:}             & Mon, 03 Dec 2018 & \\textbf{  Prob (F-statistic):} & 6.92e-125  \\\\\n",
      "\\textbf{Time:}             &     16:24:24     & \\textbf{  Log-Likelihood:    } &   -1047.6  \\\\\n",
      "\\textbf{No. Observations:} &         400      & \\textbf{  AIC:               } &     2113.  \\\\\n",
      "\\textbf{Df Residuals:}     &         391      & \\textbf{  BIC:               } &     2149.  \\\\\n",
      "\\textbf{Df Model:}         &           8      & \\textbf{                     } &            \\\\\n",
      "\\textbf{Covariance Type:}  &    nonrobust     & \\textbf{                     } &            \\\\\n",
      "\\bottomrule\n",
      "\\end{tabular}\n",
      "%\\caption{OLS Regression Results}\n",
      "\\end{center}\n",
      "\\begin{center}\n",
      "\\begin{tabular}{lcccccc}\n",
      "\\toprule\n",
      "                                                                      & \\textbf{coef} & \\textbf{std err} & \\textbf{t} & \\textbf{P$>$$|$t$|$} & \\textbf{[0.025} & \\textbf{0.975]}  \\\\\n",
      "\\midrule\n",
      "\\textbf{Intercept}                                                    &      18.5857  &        0.605     &    30.702  &         0.000        &       17.396    &       19.776     \\\\\n",
      "\\textbf{C(subject, Treatment(0))[T.1]}                                &      -5.7723  &        0.475     &   -12.155  &         0.000        &       -6.706    &       -4.839     \\\\\n",
      "\\textbf{C(subject, Treatment(0))[T.2]}                                &      -4.8641  &        0.475     &   -10.243  &         0.000        &       -5.798    &       -3.930     \\\\\n",
      "\\textbf{C(subject, Treatment(0))[T.3]}                                &      -1.7452  &        0.475     &    -3.675  &         0.000        &       -2.679    &       -0.812     \\\\\n",
      "\\textbf{C(complexity, Treatment(3))[T.1]}                             &     -13.4608  &        0.613     &   -21.956  &         0.000        &      -14.666    &      -12.255     \\\\\n",
      "\\textbf{C(complexity, Treatment(3))[T.2]}                             &      -8.6957  &        0.751     &   -11.581  &         0.000        &      -10.172    &       -7.219     \\\\\n",
      "\\textbf{C(model, Treatment(1))[T.2]}                                  &       3.1444  &        0.751     &     4.188  &         0.000        &        1.668    &        4.621     \\\\\n",
      "\\textbf{C(complexity, Treatment(3))[T.1]:C(model, Treatment(1))[T.2]} &      -3.0282  &        0.867     &    -3.493  &         0.001        &       -4.733    &       -1.324     \\\\\n",
      "\\textbf{C(complexity, Treatment(3))[T.2]:C(model, Treatment(1))[T.2]} &      -2.2729  &        1.062     &    -2.140  &         0.033        &       -4.361    &       -0.185     \\\\\n",
      "\\bottomrule\n",
      "\\end{tabular}\n",
      "\\end{center}\n",
      "\\begin{center}\n",
      "\\begin{tabular}{lclc}\n",
      "\\toprule\n",
      "\\textbf{Omnibus:}       & 34.883 & \\textbf{  Durbin-Watson:     } &    0.323  \\\\\n",
      "\\textbf{Prob(Omnibus):} &  0.000 & \\textbf{  Jarque-Bera (JB):  } &   82.289  \\\\\n",
      "\\textbf{Skew:}          &  0.442 & \\textbf{  Prob(JB):          } & 1.35e-18  \\\\\n",
      "\\textbf{Kurtosis:}      &  5.038 & \\textbf{  Cond. No.          } &     13.8  \\\\\n",
      "\\bottomrule\n",
      "\\end{tabular}\n",
      "\\end{center}\n"
     ]
    },
    {
     "data": {
      "image/png": "[encoded data removed]",
      "text/plain": [
       "<matplotlib.figure.Figure at 0x7ff64f684eb8>"
      ]
     },
     "metadata": {},
     "output_type": "display_data"
    }
   ],
   "source": [
    "formula = \"accuracy ~ C(subject, Treatment(0)) + C(complexity, Treatment(3)) * C(model, Treatment(1))\"\n",
    "lm = ols(formula, df)\n",
    "fit = lm.fit()\n",
    "qqplot(fit.resid)\n",
    "print(fit.summary())\n",
    "print('\\nThe accuracy of the classifier depends on the subject, ' +\n",
    "      'model type (deep network versus logistic regression), ' +\n",
    "      'and task complexity (CV versus consonant versus {vowel, location, degree}) ' +\n",
    "      '(ANOVA with subject, model type, task complexity, and model-task complexity interaction, ' +\n",
    "      'f-value: {}, p: {}). '.format(fit.fvalue, fit.f_pvalue) +\n",
    "      'Within this ANOVA, all treatment coefficients were significant ' +\n",
    "      'at p<.001 with Subject 1, CV task, and logistic regression as the reference treatment.')\n",
    "for table in fit.summary().tables:\n",
    "    print(table.as_latex_tabular())\n",
    "plt.show()"
   ]
  },
  {
   "cell_type": "code",
   "execution_count": 9,
   "metadata": {},
   "outputs": [],
   "source": [
    "s = fit.summary()"
   ]
  },
  {
   "cell_type": "markdown",
   "metadata": {},
   "source": [
    "# Results table"
   ]
  },
  {
   "cell_type": "code",
   "execution_count": 9,
   "metadata": {
    "scrolled": false
   },
   "outputs": [
    {
     "name": "stdout",
     "output_type": "stream",
     "text": [
      "(10, 57, 57)\n"
     ]
    },
    {
     "name": "stderr",
     "output_type": "stream",
     "text": [
      "/home/jesse/Development/cv_paper_plots/cv_paper_plots/accuracy.py:116: RuntimeWarning: divide by zero encountered in log2\n",
      "  Iyhy = Pyhy * Py * np.log2(Pyhy/Pyh)\n",
      "/home/jesse/Development/cv_paper_plots/cv_paper_plots/accuracy.py:116: RuntimeWarning: invalid value encountered in multiply\n",
      "  Iyhy = Pyhy * Py * np.log2(Pyhy/Pyh)\n"
     ]
    },
    {
     "name": "stdout",
     "output_type": "stream",
     "text": [
      "(10, 56, 56)\n"
     ]
    },
    {
     "name": "stderr",
     "output_type": "stream",
     "text": [
      "/home/jesse/Development/cv_paper_plots/cv_paper_plots/accuracy.py:116: RuntimeWarning: invalid value encountered in true_divide\n",
      "  Iyhy = Pyhy * Py * np.log2(Pyhy/Pyh)\n"
     ]
    },
    {
     "name": "stdout",
     "output_type": "stream",
     "text": [
      "(10, 54, 54)\n",
      "(10, 57, 57)\n"
     ]
    },
    {
     "name": "stderr",
     "output_type": "stream",
     "text": [
      "/home/jesse/Development/cv_paper_plots/cv_paper_plots/accuracy.py:116: RuntimeWarning: divide by zero encountered in log2\n",
      "  Iyhy = Pyhy * Py * np.log2(Pyhy/Pyh)\n",
      "/home/jesse/Development/cv_paper_plots/cv_paper_plots/accuracy.py:116: RuntimeWarning: invalid value encountered in multiply\n",
      "  Iyhy = Pyhy * Py * np.log2(Pyhy/Pyh)\n",
      "/home/jesse/Development/cv_paper_plots/cv_paper_plots/accuracy.py:116: RuntimeWarning: divide by zero encountered in log2\n",
      "  Iyhy = Pyhy * Py * np.log2(Pyhy/Pyh)\n",
      "/home/jesse/Development/cv_paper_plots/cv_paper_plots/accuracy.py:116: RuntimeWarning: invalid value encountered in multiply\n",
      "  Iyhy = Pyhy * Py * np.log2(Pyhy/Pyh)\n"
     ]
    }
   ],
   "source": [
    "dcv_acc = deep_all[fracs[-1]][:, 2] * 100.\n",
    "lcv_acc = linear_all[fracs[-1]][:, 2] * 100.\n",
    "cv_chance = chance[0, :, -1].mean(axis=-1) * 100.\n",
    "dcv_cc = np.zeros(4)\n",
    "dcv_ncc = np.zeros(4)\n",
    "lcv_cc = np.zeros(4)\n",
    "lcv_ncc = np.zeros(4)\n",
    "\n",
    "dc_acc = other_deep_accuracy['c'][:, 2] * 100.\n",
    "lc_acc = other_linear_accuracy['c'][:, 2] * 100.\n",
    "c_chance = chance[1, :, -1].mean(axis=-1) * 100.\n",
    "dc_cc = np.zeros(4)\n",
    "dc_ncc = np.zeros(4)\n",
    "lc_cc = np.zeros(4)\n",
    "lc_ncc = np.zeros(4)\n",
    "\n",
    "dv_acc = other_deep_accuracy['v'][:, 2] * 100.\n",
    "lv_acc = other_linear_accuracy['v'][:, 2] * 100.\n",
    "v_chance = chance[2, :, -1].mean(axis=-1) * 100.\n",
    "dv_cc = np.zeros(4)\n",
    "dv_ncc = np.zeros(4)\n",
    "lv_cc = np.zeros(4)\n",
    "lv_ncc = np.zeros(4)\n",
    "\n",
    "for ii, s in enumerate(subjects):\n",
    "    print(deep_cv_mats[s].shape)\n",
    "    dcv_cc[ii] = accuracy.channel_capacity(deep_cv_mats[s].mean(axis=0))\n",
    "    dcv_ncc[ii] = accuracy.naive_channel_capacity(dcv_acc[ii].mean()/100., deep_cv_mats[s].shape[-1]+1)\n",
    "    lcv_cc[ii] = accuracy.channel_capacity(linear_cv_mats[s].mean(axis=0))\n",
    "    lcv_ncc[ii] = accuracy.naive_channel_capacity(lcv_acc[ii].mean()/100., linear_cv_mats[s].shape[-1]+1)\n",
    "    \n",
    "    dc_cc[ii] = accuracy.channel_capacity(deep_c_mats[s].mean(axis=0))\n",
    "    dc_ncc[ii] = accuracy.naive_channel_capacity(dc_acc[ii].mean()/100., deep_c_mats[s].shape[-1]+1)\n",
    "    lc_cc[ii] = accuracy.channel_capacity(linear_c_mats[s].mean(axis=0))\n",
    "    lc_ncc[ii] = accuracy.naive_channel_capacity(lc_acc[ii].mean()/100., linear_c_mats[s].shape[-1]+1)\n",
    "    \n",
    "    dv_cc[ii] = accuracy.channel_capacity(deep_v_mats[s].mean(axis=0))\n",
    "    dv_ncc[ii] = accuracy.naive_channel_capacity(dv_acc[ii].mean()/100., deep_v_mats[s].shape[-1]+1)\n",
    "    lv_cc[ii] = accuracy.channel_capacity(linear_v_mats[s].mean(axis=0))\n",
    "    lv_ncc[ii] = accuracy.naive_channel_capacity(lv_acc[ii].mean()/100., linear_v_mats[s].shape[-1]+1)"
   ]
  },
  {
   "cell_type": "code",
   "execution_count": 10,
   "metadata": {},
   "outputs": [
    {
     "name": "stdout",
     "output_type": "stream",
     "text": [
      "Deep network, 57 CV, single subj.         &55.1 $\\pm$ 2.3\\% & 31.0x & 2.25 (3.92 exact) \\\\\n",
      "Deep network, 57 CV, subj. average        &33.7 $\\pm$ 16.4\\% & 18.6x & 1.15 (2.94 exact) \\\\\n",
      "Logistic Regression, 57 CV, single subj.  &44.6 $\\pm$ 3.2\\% & 25.1x & 1.63 (3.49 exact) \\\\\n",
      "Logistic Regression, 57 CV, subj. average &28.0 $\\pm$ 12.9\\% & 15.5x & 0.86 (2.71 exact) \\\\\n",
      "\\hline\n",
      "Deep network, 19 cons., single subj.         &59.0 $\\pm$ 2.2\\% & 11.1x & 1.6 (2.42 exact) \\\\\n",
      "Deep network, 19 cons., subj. average        &41.2 $\\pm$ 14.3\\% & 7.7x & 0.91 (1.63 exact) \\\\\n",
      "Logistic Regression, 19 cons., single subj.  &51.2 $\\pm$ 1.8\\% & 9.7x & 1.25 (2.04 exact) \\\\\n",
      "Logistic Regression, 19 cons., subj. average &36.5 $\\pm$ 12.3\\% & 6.8x & 0.72 (1.41 exact) \\\\\n",
      "LDA~\\cite{mugler2014}, 24 cons., single subj.  &36.1\\% & 4.9x & 0.75 \\\\\n",
      "LDA~\\cite{mugler2014}, 24 cons., subj. average &20.4 $\\pm$ 9.8\\% & 2.8x & 0.25 \\\\\n",
      "\\hline\n",
      "Deep network, 3 vowels, single subj.         &85.9 $\\pm$ 2.3\\% & 2.6x & 1.19 (0.87 exact) \\\\\n",
      "Deep network, 3 vowels, subj. average        &67.3 $\\pm$ 13.1\\% & 2.0x & 0.63 (0.45 exact) \\\\\n",
      "Logistic Regression, 3 vowels, single subj.  &78.7 $\\pm$ 2.6\\% & 2.4x & 0.91 (0.64 exact) \\\\\n",
      "Logistic Regression, 3 vowels, subj. average &61.3 $\\pm$ 11.8\\% & 1.8x & 0.46 (0.32 exact) \\\\\n",
      "LDA~\\cite{mugler2014}, 15 vowels, single subj.  &23.9\\% & 1.9x & 0.22 \\\\\n",
      "LDA~\\cite{mugler2014}, 15 vowels, subj. average &19.2 $\\pm$ 3.7\\% & 1.5x & 0.12 \\\\\n",
      "\n"
     ]
    }
   ],
   "source": [
    "mugler2014 = {'consonant_single': 36.1,\n",
    "              'consonant_avg': 20.4,\n",
    "              'consonant_avg_pm': 9.8,\n",
    "              'consonant_chance': 7.4,\n",
    "              'vowel_single': 23.9,\n",
    "              'vowel_avg': 19.2,\n",
    "              'vowel_avg_pm': 3.7,\n",
    "              'vowel_chance': 12.9}\n",
    "mugler2014['consonant_single_cc'] = accuracy.naive_channel_capacity(mugler2014['consonant_single']/100., 24)\n",
    "mugler2014['consonant_avg_cc'] = accuracy.naive_channel_capacity(mugler2014['consonant_avg']/100., 24)\n",
    "mugler2014['vowel_single_cc'] = accuracy.naive_channel_capacity(mugler2014['vowel_single']/100., 15)\n",
    "mugler2014['vowel_avg_cc'] = accuracy.naive_channel_capacity(mugler2014['vowel_avg']/100., 15)\n",
    "\n",
    "def format_string(string, *data):\n",
    "    acc, std, ac, ncc, cc = data\n",
    "    return string.format(np.around(acc, 1), np.around(std, 1), np.around(ac, 1), np.around(ncc, 2), np.around(cc, 2))\n",
    "\n",
    "d_cv1 = \"Deep network, 57 CV, single subj.         &{} $\\pm$ {}\\% & {}x & {} ({} exact) \\\\\\\\\\n\"\n",
    "d_cv2 = \"Deep network, 57 CV, subj. average        &{} $\\pm$ {}\\% & {}x & {} ({} exact) \\\\\\\\\\n\"\n",
    "d_cv1 = format_string(d_cv1, dcv_acc[0].mean(), dcv_acc[0].std(),\n",
    "                      (dcv_acc[0]/cv_chance[0]).mean(),\n",
    "                      dcv_ncc[0], dcv_cc[0])\n",
    "d_cv2 = format_string(d_cv2, dcv_acc.mean(), dcv_acc.std(),\n",
    "                      (dcv_acc/cv_chance).mean(),\n",
    "                      dcv_ncc.mean(), dcv_cc.mean())\n",
    "l_cv1 = \"Logistic Regression, 57 CV, single subj.  &{} $\\pm$ {}\\% & {}x & {} ({} exact) \\\\\\\\\\n\"\n",
    "l_cv2 = \"Logistic Regression, 57 CV, subj. average &{} $\\pm$ {}\\% & {}x & {} ({} exact) \\\\\\\\\\n\"\n",
    "l_cv1 = format_string(l_cv1, lcv_acc[0].mean(), lcv_acc[0].std(),\n",
    "                      (lcv_acc[0]/cv_chance[0]).mean(),\n",
    "                      lcv_ncc[0], lcv_cc[0])\n",
    "l_cv2 = format_string(l_cv2, lcv_acc.mean(), lcv_acc.std(),\n",
    "                      (lcv_acc/cv_chance).mean(),\n",
    "                      lcv_ncc.mean(), lcv_cc.mean())\n",
    "hline = \"\\\\hline\\n\"\n",
    "d_c1 = \"Deep network, 19 cons., single subj.         &{} $\\pm$ {}\\% & {}x & {} ({} exact) \\\\\\\\\\n\"\n",
    "d_c2 = \"Deep network, 19 cons., subj. average        &{} $\\pm$ {}\\% & {}x & {} ({} exact) \\\\\\\\\\n\"\n",
    "d_c1 = format_string(d_c1, dc_acc[0].mean(), dc_acc[0].std(),\n",
    "                      (dc_acc[0]/c_chance[0]).mean(),\n",
    "                      dc_ncc[0], dc_cc[0])\n",
    "d_c2 = format_string(d_c2, dc_acc.mean(), dc_acc.std(),\n",
    "                      (dc_acc/c_chance).mean(),\n",
    "                      dc_ncc.mean(), dc_cc.mean())\n",
    "l_c1 = \"Logistic Regression, 19 cons., single subj.  &{} $\\pm$ {}\\% & {}x & {} ({} exact) \\\\\\\\\\n\"\n",
    "l_c2 = \"Logistic Regression, 19 cons., subj. average &{} $\\pm$ {}\\% & {}x & {} ({} exact) \\\\\\\\\\n\"\n",
    "l_c1 = format_string(l_c1, lc_acc[0].mean(), lc_acc[0].std(),\n",
    "                      (lc_acc[0]/c_chance[0]).mean(),\n",
    "                      lc_ncc[0], lc_cc[0])\n",
    "l_c2 = format_string(l_c2, lc_acc.mean(), lc_acc.std(),\n",
    "                      (lc_acc/c_chance).mean(),\n",
    "                      lc_ncc.mean(), lc_cc.mean())\n",
    "m_c = (\"LDA~\\cite{{mugler2014}}, 24 cons., single subj.  &{}\\% & {}x & {} \\\\\\\\\\n\" +\n",
    "       \"LDA~\\cite{{mugler2014}}, 24 cons., subj. average &{} $\\pm$ {}\\% & {}x & {} \\\\\\\\\\n\")\n",
    "m_c = m_c.format(np.around(mugler2014['consonant_single'], 1),\n",
    "                 np.around(mugler2014['consonant_single']/mugler2014['consonant_chance'], 1),\n",
    "                 np.around(mugler2014['consonant_single_cc'][0], 2),\n",
    "                 np.around(mugler2014['consonant_avg'], 1),\n",
    "                 np.around(mugler2014['consonant_avg_pm'], 1),\n",
    "                 np.around(mugler2014['consonant_avg']/mugler2014['consonant_chance'], 1),\n",
    "                 np.around(mugler2014['consonant_avg_cc'][0], 2))\n",
    "d_v1 = \"Deep network, 3 vowels, single subj.         &{} $\\pm$ {}\\% & {}x & {} ({} exact) \\\\\\\\\\n\"\n",
    "d_v2 = \"Deep network, 3 vowels, subj. average        &{} $\\pm$ {}\\% & {}x & {} ({} exact) \\\\\\\\\\n\"\n",
    "d_v1 = format_string(d_v1, dv_acc[0].mean(), dv_acc[0].std(),\n",
    "                      (dv_acc[0]/v_chance[0]).mean(),\n",
    "                      dv_ncc[0], dv_cc[0])\n",
    "d_v2 = format_string(d_v2, dv_acc.mean(), dv_acc.std(),\n",
    "                      (dv_acc/v_chance).mean(),\n",
    "                      dv_ncc.mean(), dv_cc.mean())\n",
    "l_v1 = \"Logistic Regression, 3 vowels, single subj.  &{} $\\pm$ {}\\% & {}x & {} ({} exact) \\\\\\\\\\n\"\n",
    "l_v2 = \"Logistic Regression, 3 vowels, subj. average &{} $\\pm$ {}\\% & {}x & {} ({} exact) \\\\\\\\\\n\"\n",
    "l_v1 = format_string(l_v1, lv_acc[0].mean(), lv_acc[0].std(),\n",
    "                      (lv_acc[0]/v_chance[0]).mean(),\n",
    "                      lv_ncc[0], lv_cc[0])\n",
    "l_v2 = format_string(l_v2, lv_acc.mean(), lv_acc.std(),\n",
    "                      (lv_acc/v_chance).mean(),\n",
    "                      lv_ncc.mean(), lv_cc.mean())\n",
    "m_v = (\"LDA~\\cite{{mugler2014}}, 15 vowels, single subj.  &{}\\% & {}x & {} \\\\\\\\\\n\" +\n",
    "       \"LDA~\\cite{{mugler2014}}, 15 vowels, subj. average &{} $\\pm$ {}\\% & {}x & {} \\\\\\\\\\n\")\n",
    "m_v = m_v.format(np.around(mugler2014['vowel_single'], 1),\n",
    "                 np.around(mugler2014['vowel_single']/mugler2014['vowel_chance'], 1),\n",
    "                 np.around(mugler2014['vowel_single_cc'][0], 2),\n",
    "                 np.around(mugler2014['vowel_avg'], 1),\n",
    "                 np.around(mugler2014['vowel_avg_pm'], 1),\n",
    "                 np.around(mugler2014['vowel_avg']/mugler2014['vowel_chance'], 1),\n",
    "                 np.around(mugler2014['vowel_avg_cc'][0], 2))\n",
    "print(d_cv1 + d_cv2 + l_cv1 + l_cv2 + hline +\n",
    "      d_c1 + d_c2 + l_c1 + l_c2 + m_c + hline +\n",
    "      d_v1 + d_v2 + l_v1 + l_v2 + m_v)"
   ]
  },
  {
   "cell_type": "markdown",
   "metadata": {},
   "source": [
    "# Results Table 2"
   ]
  },
  {
   "cell_type": "code",
   "execution_count": 11,
   "metadata": {},
   "outputs": [
    {
     "name": "stdout",
     "output_type": "stream",
     "text": [
      "Subject 1, deep  &55.1 $\\pm$ 2.3\\%  &54.0 $\\pm$ 2.3\\%  &99.2 $\\pm$ 0.0\\%  &56.7 $\\pm$ 2.7\\%  &68.2 $\\pm$ 2.4\\%   \\\\\n",
      "Subject 2, deep  &15.6 $\\pm$ 2.2\\%  &14.3 $\\pm$ 2.7\\%  &98.5 $\\pm$ 0.0\\%  &15.2 $\\pm$ 2.8\\%  &20.8 $\\pm$ 3.3\\%   \\\\\n",
      "Subject 3, deep  &21.1 $\\pm$ 1.6\\%  &20.7 $\\pm$ 1.8\\%  &98.6 $\\pm$ 0.0\\%  &20.7 $\\pm$ 1.8\\%  &31.8 $\\pm$ 2.5\\%   \\\\\n",
      "Subject 4, deep  &43.0 $\\pm$ 5.3\\%  &43.2 $\\pm$ 3.7\\%  &99.0 $\\pm$ 0.1\\%  &47.5 $\\pm$ 5.1\\%  &56.2 $\\pm$ 4.8\\%   \\\\\n",
      "Subj. average, deep  &33.7 $\\pm$ 16.4\\%  &33.1 $\\pm$ 16.4\\%  &98.8 $\\pm$ 0.3\\%  &35.0 $\\pm$ 17.8\\%  &44.2 $\\pm$ 19.2\\%   \\\\\n",
      "\n",
      "Subject 1, logistic  &44.6 $\\pm$ 3.2\\%  &43.8 $\\pm$ 3.4\\%  &99.0 $\\pm$ 0.1\\%  &46.1 $\\pm$ 3.1\\%  &58.5 $\\pm$ 3.4\\%   \\\\\n",
      "Subject 2, logistic  &14.1 $\\pm$ 2.3\\%  &13.3 $\\pm$ 2.4\\%  &98.5 $\\pm$ 0.0\\%  &14.4 $\\pm$ 2.9\\%  &19.2 $\\pm$ 3.4\\%   \\\\\n",
      "Subject 3, logistic  &18.1 $\\pm$ 1.5\\%  &17.9 $\\pm$ 1.6\\%  &98.5 $\\pm$ 0.0\\%  &18.4 $\\pm$ 1.9\\%  &28.5 $\\pm$ 2.6\\%   \\\\\n",
      "Subject 4, logistic  &35.3 $\\pm$ 5.1\\%  &35.8 $\\pm$ 5.5\\%  &98.8 $\\pm$ 0.1\\%  &37.6 $\\pm$ 5.7\\%  &46.4 $\\pm$ 6.8\\%   \\\\\n",
      "Subj. average, logistic  &28.0 $\\pm$ 12.9\\%  &27.7 $\\pm$ 13.0\\%  &98.7 $\\pm$ 0.2\\%  &29.1 $\\pm$ 13.7\\%  &38.1 $\\pm$ 15.9\\%   \\\\\n",
      "\n"
     ]
    }
   ],
   "source": [
    "for deep in [True, False]:\n",
    "    for ii, s in enumerate(subjects):\n",
    "        string = '{}, {}  '.format(subject_labels[s], 'deep' if deep else 'logistic')\n",
    "        if deep:\n",
    "            data = deep_all[1.][ii, 2]\n",
    "        else:\n",
    "            data = linear_all[1.][ii, 2]\n",
    "        string = string + '&{} $\\pm$ {}\\%  '.format(np.around(100*data.mean(), 1),\n",
    "                                                np.around(100*data.std(), 1))\n",
    "        for key in ['sens', 'spec', 'prec', 'f1']:\n",
    "            if deep:\n",
    "                data = deep_cv_stats[key][ii]\n",
    "            else:\n",
    "                data = linear_cv_stats[key][ii]\n",
    "            string = string + '&{} $\\pm$ {}\\%  '.format(np.around(100*data.mean(), 1),\n",
    "                                                    np.around(100*data.std(), 1))\n",
    "        string = string + ' \\\\\\\\'\n",
    "        print(string)\n",
    "    string = '{}, {}  '.format('Subj. average', 'deep' if deep else 'logistic')\n",
    "    if deep:\n",
    "        data = deep_all[1.][:, 2]\n",
    "    else:\n",
    "        data = linear_all[1.][:, 2]\n",
    "    string = string + '&{} $\\pm$ {}\\%  '.format(np.around(100*data.mean(), 1),\n",
    "                                            np.around(100*data.std(), 1))\n",
    "    for key in ['sens', 'spec', 'prec', 'f1']:\n",
    "        if deep:\n",
    "            data = deep_cv_stats[key]\n",
    "        else:\n",
    "            data = linear_cv_stats[key]\n",
    "        string = string + '&{} $\\pm$ {}\\%  '.format(np.around(100*data.mean(), 1),\n",
    "                                                np.around(100*data.std(), 1))\n",
    "    string = string + ' \\\\\\\\'\n",
    "    print(string)\n",
    "    print()"
   ]
  },
  {
   "cell_type": "markdown",
   "metadata": {
    "collapsed": true
   },
   "source": [
    "# CV Slope"
   ]
  },
  {
   "cell_type": "code",
   "execution_count": 34,
   "metadata": {
    "scrolled": false
   },
   "outputs": [
    {
     "name": "stdout",
     "output_type": "stream",
     "text": [
      "ec2 5.608485865641863 0.7604497235599879\n",
      "ec9 4.203700783405717 0.7407686945505374\n",
      "gp31 1.479268294670714 0.19121042983475078\n",
      "gp33 11.154810088787793 2.0820429494646344\n",
      "                            OLS Regression Results                            \n",
      "==============================================================================\n",
      "Dep. Variable:                  slope   R-squared:                       0.580\n",
      "Model:                            OLS   Adj. R-squared:                  0.557\n",
      "Method:                 Least Squares   F-statistic:                     25.87\n",
      "Date:                Mon, 10 Dec 2018   Prob (F-statistic):           1.73e-13\n",
      "Time:                        13:59:22   Log-Likelihood:                -199.63\n",
      "No. Observations:                  80   AIC:                             409.3\n",
      "Df Residuals:                      75   BIC:                             421.2\n",
      "Df Model:                           4                                         \n",
      "Covariance Type:            nonrobust                                         \n",
      "===================================================================================================\n",
      "                                      coef    std err          t      P>|t|      [0.025      0.975]\n",
      "---------------------------------------------------------------------------------------------------\n",
      "Intercept                           5.3751      0.758      7.095      0.000       3.866       6.884\n",
      "C(model, Treatment(0))[T.1.0]       0.5576      0.678      0.823      0.413      -0.792       1.908\n",
      "C(subject, Treatment(0))[T.1.0]    -1.9429      0.958     -2.027      0.046      -3.852      -0.034\n",
      "C(subject, Treatment(0))[T.2.0]    -4.3410      0.958     -4.530      0.000      -6.250      -2.432\n",
      "C(subject, Treatment(0))[T.3.0]     4.9994      0.958      5.217      0.000       3.090       6.909\n",
      "==============================================================================\n",
      "Omnibus:                       27.431   Durbin-Watson:                   1.804\n",
      "Prob(Omnibus):                  0.000   Jarque-Bera (JB):              119.424\n",
      "Skew:                           0.853   Prob(JB):                     1.17e-26\n",
      "Kurtosis:                       8.737   Cond. No.                         5.39\n",
      "==============================================================================\n",
      "\n",
      "Warnings:\n",
      "[1] Standard Errors assume that the covariance matrix of the errors is correctly specified.\n",
      "\\begin{center}\n",
      "\\begin{tabular}{lclc}\n",
      "\\toprule\n",
      "\\textbf{Dep. Variable:}    &      slope       & \\textbf{  R-squared:         } &    0.580  \\\\\n",
      "\\textbf{Model:}            &       OLS        & \\textbf{  Adj. R-squared:    } &    0.557  \\\\\n",
      "\\textbf{Method:}           &  Least Squares   & \\textbf{  F-statistic:       } &    25.87  \\\\\n",
      "\\textbf{Date:}             & Mon, 10 Dec 2018 & \\textbf{  Prob (F-statistic):} & 1.73e-13  \\\\\n",
      "\\textbf{Time:}             &     13:59:22     & \\textbf{  Log-Likelihood:    } &  -199.63  \\\\\n",
      "\\textbf{No. Observations:} &          80      & \\textbf{  AIC:               } &    409.3  \\\\\n",
      "\\textbf{Df Residuals:}     &          75      & \\textbf{  BIC:               } &    421.2  \\\\\n",
      "\\textbf{Df Model:}         &           4      & \\textbf{                     } &           \\\\\n",
      "\\textbf{Covariance Type:}  &    nonrobust     & \\textbf{                     } &           \\\\\n",
      "\\bottomrule\n",
      "\\end{tabular}\n",
      "%\\caption{OLS Regression Results}\n",
      "\\end{center}\n",
      "\\begin{center}\n",
      "\\begin{tabular}{lcccccc}\n",
      "\\toprule\n",
      "                                         & \\textbf{coef} & \\textbf{std err} & \\textbf{t} & \\textbf{P$>$$|$t$|$} & \\textbf{[0.025} & \\textbf{0.975]}  \\\\\n",
      "\\midrule\n",
      "\\textbf{Intercept}                       &       5.3751  &        0.758     &     7.095  &         0.000        &        3.866    &        6.884     \\\\\n",
      "\\textbf{C(model, Treatment(0))[T.1.0]}   &       0.5576  &        0.678     &     0.823  &         0.413        &       -0.792    &        1.908     \\\\\n",
      "\\textbf{C(subject, Treatment(0))[T.1.0]} &      -1.9429  &        0.958     &    -2.027  &         0.046        &       -3.852    &       -0.034     \\\\\n",
      "\\textbf{C(subject, Treatment(0))[T.2.0]} &      -4.3410  &        0.958     &    -4.530  &         0.000        &       -6.250    &       -2.432     \\\\\n",
      "\\textbf{C(subject, Treatment(0))[T.3.0]} &       4.9994  &        0.958     &     5.217  &         0.000        &        3.090    &        6.909     \\\\\n",
      "\\bottomrule\n",
      "\\end{tabular}\n",
      "\\end{center}\n",
      "\\begin{center}\n",
      "\\begin{tabular}{lclc}\n",
      "\\toprule\n",
      "\\textbf{Omnibus:}       & 27.431 & \\textbf{  Durbin-Watson:     } &    1.804  \\\\\n",
      "\\textbf{Prob(Omnibus):} &  0.000 & \\textbf{  Jarque-Bera (JB):  } &  119.424  \\\\\n",
      "\\textbf{Skew:}          &  0.853 & \\textbf{  Prob(JB):          } & 1.17e-26  \\\\\n",
      "\\textbf{Kurtosis:}      &  8.737 & \\textbf{  Cond. No.          } &     5.39  \\\\\n",
      "\\bottomrule\n",
      "\\end{tabular}\n",
      "\\end{center}\n",
      "1.8655508871477682\n",
      "0.7999231983287236\n",
      "0.3760014848098699\n",
      "1.4588001203632697\n",
      "Deep networks scale better with dataset size than logistic regression with an improvement of 5.6x $\\pm$ 3.5  and 5.1x $\\pm$ 3.4 over chance per 1000 training samples respectively. This improvement is summarized across subjects in Fig \\ref{fig:slope}B. For the subject with highest accuracy (Subject 1), the change in accuracy over chance per 1000 training examples for deep networks and logistic regression are 5.6x $\\pm$ 0.8 and 5.7x $\\pm$ 0.8 respectively. For the subject with highest slope (Subject 4), the change in accuracy over chance per 1000 training examples for deep networks and logistic regression are 11.2x $\\pm$ 2.1 and 10.2x $\\pm$ 2.0 respectively.\n"
     ]
    },
    {
     "data": {
      "image/png": "[encoded data removed]",
      "text/plain": [
       "<matplotlib.figure.Figure at 0x7ff64db4c2b0>"
      ]
     },
     "metadata": {},
     "output_type": "display_data"
    }
   ],
   "source": [
    "# reload(accuracy)\n",
    "reload(slope)\n",
    "plt.close()\n",
    "f = plt.figure(figsize=(5, 4))\n",
    "\n",
    "le = .1\n",
    "re = .02\n",
    "te = .1\n",
    "be = .11\n",
    "h_gap = .125\n",
    "\n",
    "w = .55\n",
    "h = 1. - te - be\n",
    "\n",
    "ax_lines = f.add_axes([le, be, w, h])\n",
    "ax_slopes = f.add_axes([le + w + h_gap, be, 1. - w - h_gap - le - re, h])\n",
    "\n",
    "key = fracs[-1]\n",
    "\n",
    "slope.plot_cv_slope(subjects, deep_all, linear_all, chance[0], training_size, fracs, (ax_lines, ax_slopes),\n",
    "                    legend=True, show_significance=True)\n",
    "\n",
    "x0 = .05\n",
    "y0 = 1. - te + .01\n",
    "x1 = le + w + h_gap - .075\n",
    "\n",
    "f.text(x0, y0, 'A', **letter_fontstyle)\n",
    "f.text(x1, y0, 'B', **letter_fontstyle)\n",
    "\n",
    "plt.savefig(os.path.join(os.environ['HOME'], 'Downloads/slope.eps'), dpi=300)\n",
    "plt.savefig(os.path.join(os.environ['HOME'], 'Downloads/slope.png'), dpi=300)"
   ]
  },
  {
   "cell_type": "markdown",
   "metadata": {
    "collapsed": true
   },
   "source": [
    "# Accuracy Supplement"
   ]
  },
  {
   "cell_type": "code",
   "execution_count": 24,
   "metadata": {},
   "outputs": [
    {
     "name": "stdout",
     "output_type": "stream",
     "text": [
      "The highest deep network accuracy for a single subject on the consonant vowel task is for Subject 1 which is 55.1 $\\pm$ 2.3\\% (31.0 times chance, 1.8\\%) and 44.6 $\\pm$ 3.2\\% (25.1 times chance, 1.8\\%) for logistic regression and deep networks respectively, which is a 24.0\\% improvement. Mean consonant vowel classification accuracy across subjects (XX way) with deep networks is 33.7 $\\pm$ 16.4\\%. For logistic regression, it is 28.0 $\\pm$ 12.9\\%.\n",
      "\n",
      "The highest deep network accuracy for a single subject on the consonant task is for Subject 1 which is 59.0 $\\pm$ 2.2\\% (11.1 times chance, 5.3\\%) and 51.2 $\\pm$ 1.8\\% (9.7 times chance, 5.3\\%) for logistic regression and deep networks respectively, which is a 15.3\\% improvement. Mean consonant classification accuracy across subjects (XX way) with deep networks is 41.2 $\\pm$ 14.3\\%. For logistic regression, it is 36.5 $\\pm$ 12.3\\%.\n",
      "\n",
      "The highest deep network accuracy for a single subject on the vowel task is for Subject 1 which is 85.9 $\\pm$ 2.3\\% (2.6 times chance, 33.3\\%) and 78.7 $\\pm$ 2.6\\% (2.4 times chance, 33.3\\%) for logistic regression and deep networks respectively, which is a 9.2\\% improvement. Mean vowel classification accuracy across subjects (XX way) with deep networks is 67.3 $\\pm$ 13.1\\%. For logistic regression, it is 61.3 $\\pm$ 11.8\\%.\n",
      "\n",
      "The highest deep network accuracy for a single subject on the constriction location task is for Subject 1 which is 95.6 $\\pm$ 2.6\\% (2.8 times chance, 34.5\\%) and 92.4 $\\pm$ 2.0\\% (2.7 times chance, 34.5\\%) for logistic regression and deep networks respectively, which is a 3.5\\% improvement. Mean constriction location classification accuracy across subjects (XX way) with deep networks is 81.5 $\\pm$ 10.6\\%. For logistic regression, it is 78.9 $\\pm$ 10.2\\%.\n",
      "\n",
      "The highest deep network accuracy for a single subject on the constriction degree task is for Subject 1 which is 85.3 $\\pm$ 2.3\\% (2.5 times chance, 34.7\\%) and 82.2 $\\pm$ 3.5\\% (2.4 times chance, 34.7\\%) for logistic regression and deep networks respectively, which is a 3.9\\% improvement. Mean constriction degree classification accuracy across subjects (XX way) with deep networks is 71.4 $\\pm$ 11.9\\%. For logistic regression, it is 68.2 $\\pm$ 12.0\\%.\n",
      "\n"
     ]
    },
    {
     "data": {
      "image/png": "[encoded data removed]",
      "text/plain": [
       "<matplotlib.figure.Figure at 0x7ff64d62f6d8>"
      ]
     },
     "metadata": {},
     "output_type": "display_data"
    }
   ],
   "source": [
    "reload(accuracy)\n",
    "reload(slope)\n",
    "plt.close()\n",
    "f = plt.figure(figsize=(5, 4))\n",
    "\n",
    "le = .1\n",
    "re = .02\n",
    "te = .1\n",
    "be = .075\n",
    "h_gap = .13\n",
    "v_gap = .2\n",
    "\n",
    "cv_w = .3\n",
    "big_h = (1. - te - be)\n",
    "little_h = (1. - te - be - v_gap) / 2.\n",
    "w = (1. - le - cv_w - h_gap - h_gap - re) / 2.\n",
    "\n",
    "p_m_y = be + little_h + v_gap\n",
    "ax_p = f.add_axes([le, p_m_y, w, little_h])\n",
    "ax_m = f.add_axes([le + w + h_gap, p_m_y, w, little_h])\n",
    "\n",
    "ax_v = f.add_axes([le, be, w, little_h])\n",
    "ax_c = f.add_axes([le + w + h_gap, be, w, little_h])\n",
    "\n",
    "ax_cv = f.add_axes([1. - re - cv_w, be, cv_w, big_h])\n",
    "\n",
    "key = fracs[-1]\n",
    "\n",
    "accuracy.plot_cv_accuracy(subjects, deep_all[key], linear_all[key], chance[0, :, -1], ax_cv, legend=True,\n",
    "                          normalize_chance=False, ymax=.7)\n",
    "\n",
    "accuracy.plot_cv_accuracy(subjects, other_deep_accuracy['c'], other_linear_accuracy['c'],\n",
    "                          chance[1, :, -1], ax_c, 'Consonant', False, ymax=.7, normalize_chance=False)\n",
    "accuracy.plot_cv_accuracy(subjects, other_deep_accuracy['v'], other_linear_accuracy['v'],\n",
    "                          chance[2, :, -1], ax_v, 'Vowel', False, ymax=1, normalize_chance=False)\n",
    "\n",
    "accuracy.plot_cv_accuracy(subjects, other_deep_accuracy['p'], other_linear_accuracy['p'],\n",
    "                          chance[3, :, -1], ax_p, 'Constriction\\nLocation', False, ymax=1, normalize_chance=False)\n",
    "accuracy.plot_cv_accuracy(subjects, other_deep_accuracy['m'], other_linear_accuracy['m'],\n",
    "                          chance[4, :, -1], ax_m, 'Constriction\\nDegree', False, ymax=1, normalize_chance=False)\n",
    "\n",
    "x0 = le - .05\n",
    "y0 = p_m_y + little_h + .02\n",
    "x1 = le + w + h_gap - .05\n",
    "y1 = be + little_h + .02\n",
    "x2 = 1. - re - cv_w - .05\n",
    "\n",
    "f.text(x0, y0, 'A', **letter_fontstyle)\n",
    "f.text(x1, y0, 'B', **letter_fontstyle)\n",
    "f.text(x0, y1, 'C', **letter_fontstyle)\n",
    "f.text(x1, y1, 'D', **letter_fontstyle)\n",
    "f.text(x2, y0, 'E', **letter_fontstyle)\n",
    "\n",
    "plt.savefig(os.path.join(os.environ['HOME'], 'Downloads/accuracy2.eps'), dpi=300)\n",
    "plt.savefig(os.path.join(os.environ['HOME'], 'Downloads/accuracy2.png'), dpi=300)"
   ]
  },
  {
   "cell_type": "markdown",
   "metadata": {},
   "source": [
    "# CV Slope Supplement"
   ]
  },
  {
   "cell_type": "code",
   "execution_count": 35,
   "metadata": {},
   "outputs": [
    {
     "name": "stdout",
     "output_type": "stream",
     "text": [
      "ec2 0.1014757076762866 0.009325644295018825\n",
      "ec9 0.08089995315448253 0.013099124820416088\n",
      "gp31 0.028279515305395648 0.0031839765656900445\n",
      "gp33 0.22027195833758872 0.028806714101495594\n"
     ]
    },
    {
     "data": {
      "image/png": "[encoded data removed]",
      "text/plain": [
       "<matplotlib.figure.Figure at 0x7ff64da89320>"
      ]
     },
     "metadata": {},
     "output_type": "display_data"
    }
   ],
   "source": [
    "# reload(accuracy)\n",
    "reload(slope)\n",
    "plt.close()\n",
    "f = plt.figure(figsize=(5, 4))\n",
    "\n",
    "le = .12\n",
    "re = .02\n",
    "te = .1\n",
    "be = .11\n",
    "h_gap = .13\n",
    "\n",
    "w = .5\n",
    "h = 1. - te - be\n",
    "\n",
    "ax_lines = f.add_axes([le, be, w, h])\n",
    "ax_slopes = f.add_axes([le + w + h_gap, be, 1. - w - h_gap - le - re, h])\n",
    "\n",
    "key = fracs[-1]\n",
    "\n",
    "slope.plot_cv_slope(subjects, deep_all, linear_all, chance[0], training_size, fracs, (ax_lines, ax_slopes),\n",
    "                    legend=True, normalize_chance=False)\n",
    "\n",
    "x0 = .05\n",
    "y0 = 1. - te + .02\n",
    "x1 = le + w + h_gap - .075\n",
    "\n",
    "f.text(x0, y0, 'A', **letter_fontstyle)\n",
    "f.text(x1, y0, 'B', **letter_fontstyle)\n",
    "\n",
    "plt.savefig(os.path.join(os.environ['HOME'], 'Downloads/slope2.eps'), dpi=300)\n",
    "plt.savefig(os.path.join(os.environ['HOME'], 'Downloads/slope2.png'), dpi=300)"
   ]
  },
  {
   "cell_type": "code",
   "execution_count": null,
   "metadata": {},
   "outputs": [],
   "source": []
  }
 ],
 "metadata": {
  "kernelspec": {
   "display_name": "Python 3",
   "language": "python",
   "name": "python3"
  },
  "language_info": {
   "codemirror_mode": {
    "name": "ipython",
    "version": 3
   },
   "file_extension": ".py",
   "mimetype": "text/x-python",
   "name": "python",
   "nbconvert_exporter": "python",
   "pygments_lexer": "ipython3",
   "version": "3.6.4"
  }
 },
 "nbformat": 4,
 "nbformat_minor": 2
}
