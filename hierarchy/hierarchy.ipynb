{
 "cells": [
  {
   "cell_type": "code",
   "execution_count": 1,
   "metadata": {},
   "outputs": [],
   "source": [
    "import numpy as np\n",
    "import os\n",
    "\n",
    "import matplotlib\n",
    "import matplotlib.pyplot as plt\n",
    "from importlib import reload\n",
    "\n",
    "from cv_paper_plots import hierarchy, articulator_features\n",
    "from cv_paper_plots.style import letter_fontstyle, ticklabel_fontstyle"
   ]
  },
  {
   "cell_type": "markdown",
   "metadata": {},
   "source": [
    "# EC2 Audio"
   ]
  },
  {
   "cell_type": "code",
   "execution_count": 23,
   "metadata": {
    "scrolled": true
   },
   "outputs": [],
   "source": [
    "reload(hierarchy)\n",
    "folder = os.path.join(os.environ['HOME'], 'plots_audio/model/data')\n",
    "single_file = ['ec2_ec2_mcep_model_output.pkl']\n",
    "files = ['ec2_ec2_mcep_corr_y_hat.npz']\n",
    "\n",
    "yhs, cv_accuracy, cvs = hierarchy.load_predictions(folder, single_file)\n",
    "dp, dm, dv, dmjar = hierarchy.load_correlations(folder, files)\n",
    "name = 'deep_audio'\n",
    "deep = True\n",
    "audio = True\n",
    "threshold = .33\n",
    "max_d = .7"
   ]
  },
  {
   "cell_type": "markdown",
   "metadata": {},
   "source": [
    "# Deep FF"
   ]
  },
  {
   "cell_type": "code",
   "execution_count": 95,
   "metadata": {},
   "outputs": [
    {
     "name": "stdout",
     "output_type": "stream",
     "text": [
      "54 ['ba', 'bi', 'bu', 'da', 'di', 'du', 'fa', 'fi', 'fu', 'ga', 'gi', 'gu', 'ha', 'hi', 'hu', 'ka', 'ki', 'ku', 'la', 'li', 'lu', 'ma', 'mi', 'mu', 'na', 'ni', 'nu', 'pa', 'pi', 'pu', 'ra', 'ri', 'ru', 'sa', 'si', 'su', '$\\\\int$a', '$\\\\int$i', '$\\\\int$u', 'ta', 'ti', '$\\\\theta$u', 'va', 'vi', 'vu', 'wa', 'wi', 'wu', 'ja', 'ji', 'ju', 'za', 'zi', 'zu']\n",
      "54 ['pu', 'bu', 'mu', 'fu', 'vu', 'fa', 'va', 'pa', 'wa', 'ba', 'ma', 'ri', 'wi', 'fi', 'vi', 'pi', 'bi', 'mi', 'hu', 'ru', 'wu', 'ju', 'gu', 'ku', 'zu', '$\\\\int$i', '$\\\\int$u', 'du', '$\\\\theta$u', 'lu', 'nu', 'ha', 'gi', 'ki', 'hi', 'ji', 'ja', 'ga', 'ka', 'si', 'zi', 'li', 'di', 'ni', '$\\\\int$a', 'ti', 'za', 'sa', 'su', 'ra', 'la', 'na', 'da', 'ta']\n"
     ]
    },
    {
     "name": "stderr",
     "output_type": "stream",
     "text": [
      "/home/jesse/Development/cv_paper_plots/cv_paper_plots/hierarchy.py:194: RuntimeWarning: invalid value encountered in true_divide\n",
      "  keep = np.ones(57, dtype=bool)\n"
     ]
    }
   ],
   "source": [
    "reload(hierarchy)\n",
    "folder = os.path.join(os.environ['HOME'], 'plots_ff/model/data')\n",
    "single_file = ['ec2_ec2_hg_model_output.pkl']\n",
    "single_file = ['ec2_ec2_hg_model_output.pkl', 'ec9_ec9_hg_model_output.pkl',\n",
    "               'gp31_gp31_hg_model_output.pkl', 'gp33_gp33_hg_model_output.pkl']\n",
    "files = ['ec2_ec2_hg_corr_y_hat.npz',\n",
    "         'ec9_ec9_hg_corr_y_hat.npz',\n",
    "         'gp31_gp31_hg_corr_y_hat.npz',\n",
    "         'gp33_gp33_hg_corr_y_hat.npz']\n",
    "\n",
    "drop = ['tu', '$\\\\theta$i', '$\\\\theta$a']\n",
    "yhs, cv_accuracy, cvs = hierarchy.load_predictions(folder, single_file, drop)\n",
    "dp, dm, dv, dmjar = hierarchy.load_correlations(folder, files)\n",
    "name = 'deep_ff'\n",
    "deep = True\n",
    "audio = False\n",
    "threshold = .35\n",
    "max_d = .9\n",
    "cutoff = .2"
   ]
  },
  {
   "cell_type": "markdown",
   "metadata": {},
   "source": [
    "# Linear FF"
   ]
  },
  {
   "cell_type": "code",
   "execution_count": 87,
   "metadata": {},
   "outputs": [
    {
     "name": "stdout",
     "output_type": "stream",
     "text": [
      "54 ['ba', 'bi', 'bu', 'da', 'di', 'du', 'fa', 'fi', 'fu', 'ga', 'gi', 'gu', 'ha', 'hi', 'hu', 'ka', 'ki', 'ku', 'la', 'li', 'lu', 'ma', 'mi', 'mu', 'na', 'ni', 'nu', 'pa', 'pi', 'pu', 'ra', 'ri', 'ru', 'sa', 'si', 'su', '$\\\\int$a', '$\\\\int$i', '$\\\\int$u', 'ta', 'ti', '$\\\\theta$u', 'va', 'vi', 'vu', 'wa', 'wi', 'wu', 'ja', 'ji', 'ju', 'za', 'zi', 'zu']\n",
      "54 ['pi', 'bi', 'mi', 'pa', 'ba', 'ma', 'ra', 'ri', 'wi', 'fi', 'vi', 'wa', 'fa', 'va', 'vu', 'pu', 'bu', 'mu', 'fu', 'wu', 'ha', 'hu', 'gu', 'ku', 'gi', 'ki', 'hi', 'ji', 'ja', 'ga', 'ka', 'si', 'zi', 'sa', 'su', '$\\\\int$u', 'zu', '$\\\\int$a', '$\\\\int$i', 'li', 'ju', 'la', 'lu', 'za', 'da', 'ta', 'ti', 'du', '$\\\\theta$u', 'nu', 'ru', 'na', 'di', 'ni']\n"
     ]
    },
    {
     "name": "stderr",
     "output_type": "stream",
     "text": [
      "/home/jesse/Development/cv_paper_plots/cv_paper_plots/hierarchy.py:194: RuntimeWarning: invalid value encountered in true_divide\n",
      "  keep = np.ones(57, dtype=bool)\n"
     ]
    }
   ],
   "source": [
    "reload(hierarchy)\n",
    "folder = os.path.join(os.environ['HOME'], 'plots_ff/model/data')\n",
    "single_file = ['ec2_ec2_hg_lin_model_output.pkl', 'ec9_ec9_hg_lin_model_output.pkl',\n",
    "               'gp31_gp31_hg_lin_model_output.pkl', 'gp33_gp33_hg_lin_model_output.pkl']\n",
    "files = ['ec2_ec2_hg_lin_corr_y_hat.npz',\n",
    "         'ec9_ec9_hg_lin_corr_y_hat.npz',\n",
    "         'gp31_gp31_hg_lin_corr_y_hat.npz',\n",
    "         'gp33_gp33_hg_lin_corr_y_hat.npz']\n",
    "\n",
    "drop = ['tu', '$\\\\theta$i', '$\\\\theta$a']\n",
    "yhs, cv_accuracy, cvs = hierarchy.load_predictions(folder, single_file, drop)\n",
    "dp, dm, dv, dmjar = hierarchy.load_correlations(folder, files)\n",
    "name = 'linear_ff'\n",
    "deep = False\n",
    "audio = False\n",
    "threshold = .57\n",
    "max_d = 1.1\n",
    "cutoff = .3"
   ]
  },
  {
   "cell_type": "markdown",
   "metadata": {},
   "source": [
    "# Deep"
   ]
  },
  {
   "cell_type": "code",
   "execution_count": 60,
   "metadata": {},
   "outputs": [],
   "source": [
    "reload(hierarchy)\n",
    "folder = os.path.join(os.environ['HOME'], 'plots/model/data')\n",
    "single_file = ['ec2_ec2_hg_a_model_output.pkl']\n",
    "files = ['ec2_ec2_hg_a_corr_y_hat.npz',\n",
    "         'ec9_ec9_hg_a_corr_y_hat.npz',\n",
    "         'gp31_gp31_hg_a_corr_y_hat.npz',\n",
    "         'gp33_gp33_hg_a_corr_y_hat.npz']\n",
    "\n",
    "yhs, cv_accuracy, cvs = hierarchy.load_predictions(folder, single_file)\n",
    "dp, dm, dv, dmjar = hierarchy.load_correlations(folder, files)\n",
    "name = 'deep'\n",
    "deep = True\n",
    "audio = False\n",
    "threshold = .32\n",
    "max_d = .7"
   ]
  },
  {
   "cell_type": "markdown",
   "metadata": {},
   "source": [
    "# Linear"
   ]
  },
  {
   "cell_type": "code",
   "execution_count": 58,
   "metadata": {},
   "outputs": [],
   "source": [
    "reload(hierarchy)\n",
    "folder = os.path.join(os.environ['HOME'], 'plots/model/data')\n",
    "single_file = ['ec2_ec2_hg_a_lin_model_output.pkl']\n",
    "files = ['ec2_ec2_hg_a_lin_corr_y_hat.npz',\n",
    "         'ec9_ec9_hg_a_lin_corr_y_hat.npz',\n",
    "         'gp31_gp31_hg_a_lin_corr_y_hat.npz',\n",
    "         'gp33_gp33_hg_a_lin_corr_y_hat.npz']\n",
    "\n",
    "yhs, cv_accuracy, cvs = hierarchy.load_predictions(folder, single_file)\n",
    "dp, dm, dv, dmjar = hierarchy.load_correlations(folder, files)\n",
    "name = 'lin'\n",
    "deep = False\n",
    "audio = False\n",
    "threshold = .7\n",
    "max_d = 1.1"
   ]
  },
  {
   "cell_type": "code",
   "execution_count": 144,
   "metadata": {},
   "outputs": [],
   "source": [
    "threshold = .57\n",
    "max_d = 1.1"
   ]
  },
  {
   "cell_type": "code",
   "execution_count": 3,
   "metadata": {},
   "outputs": [
    {
     "data": {
      "text/plain": [
       "(57, 57)"
      ]
     },
     "execution_count": 3,
     "metadata": {},
     "output_type": "execute_result"
    }
   ],
   "source": [
    "yhs.shape"
   ]
  },
  {
   "cell_type": "code",
   "execution_count": 4,
   "metadata": {},
   "outputs": [
    {
     "data": {
      "text/plain": [
       "(40, 57)"
      ]
     },
     "execution_count": 4,
     "metadata": {},
     "output_type": "execute_result"
    }
   ],
   "source": [
    "cv_accuracy.shape"
   ]
  },
  {
   "cell_type": "code",
   "execution_count": 9,
   "metadata": {},
   "outputs": [],
   "source": []
  },
  {
   "cell_type": "code",
   "execution_count": 5,
   "metadata": {},
   "outputs": [
    {
     "data": {
      "text/plain": [
       "['pu',\n",
       " 'bu',\n",
       " 'mu',\n",
       " 'fu',\n",
       " 'vu',\n",
       " 'fa',\n",
       " 'va',\n",
       " 'pa',\n",
       " 'wa',\n",
       " 'ba',\n",
       " 'ma',\n",
       " 'ri',\n",
       " 'wi',\n",
       " 'fi',\n",
       " 'vi',\n",
       " 'pi',\n",
       " 'bi',\n",
       " 'mi',\n",
       " 'tu',\n",
       " '$\\\\theta$i',\n",
       " 'hu',\n",
       " 'ru',\n",
       " 'wu',\n",
       " 'ju',\n",
       " 'gu',\n",
       " 'ku',\n",
       " 'zu',\n",
       " '$\\\\int$i',\n",
       " '$\\\\int$u',\n",
       " 'du',\n",
       " '$\\\\theta$u',\n",
       " 'lu',\n",
       " 'nu',\n",
       " 'ha',\n",
       " 'gi',\n",
       " 'ki',\n",
       " 'hi',\n",
       " 'ji',\n",
       " 'ja',\n",
       " 'ga',\n",
       " 'ka',\n",
       " 'li',\n",
       " '$\\\\theta$a',\n",
       " 'di',\n",
       " 'ni',\n",
       " 'ra',\n",
       " 'la',\n",
       " 'na',\n",
       " 'da',\n",
       " 'ta',\n",
       " 'za',\n",
       " 'sa',\n",
       " 'su',\n",
       " 'si',\n",
       " 'zi',\n",
       " '$\\\\int$a',\n",
       " 'ti']"
      ]
     },
     "execution_count": 5,
     "metadata": {},
     "output_type": "execute_result"
    }
   ],
   "source": [
    "cvs"
   ]
  },
  {
   "cell_type": "code",
   "execution_count": 96,
   "metadata": {
    "scrolled": false
   },
   "outputs": [
    {
     "name": "stdout",
     "output_type": "stream",
     "text": [
      "54 ['pu', 'bu', 'mu', 'fu', 'vu', 'fa', 'va', 'pa', 'wa', 'ba', 'ma', 'ri', 'wi', 'fi', 'vi', 'pi', 'bi', 'mi', 'hu', 'ru', 'wu', 'ju', 'gu', 'ku', 'zu', '$\\\\int$i', '$\\\\int$u', 'du', '$\\\\theta$u', 'lu', 'nu', 'ha', 'gi', 'ki', 'hi', 'ji', 'ja', 'ga', 'ka', 'si', 'zi', 'li', 'di', 'ni', '$\\\\int$a', 'ti', 'za', 'sa', 'su', 'ra', 'la', 'na', 'da', 'ta']\n",
      "54 ['pu', 'bu', 'mu', 'fu', 'vu', 'fa', 'va', 'pa', 'wa', 'ba', 'ma', 'ri', 'wi', 'fi', 'vi', 'pi', 'bi', 'mi', 'hu', 'ru', 'wu', 'ju', 'gu', 'ku', 'zu', '$\\\\int$i', '$\\\\int$u', 'du', '$\\\\theta$u', 'lu', 'nu', 'ha', 'gi', 'ki', 'hi', 'ji', 'ja', 'ga', 'ka', 'si', 'zi', 'li', 'di', 'ni', '$\\\\int$a', 'ti', 'za', 'sa', 'su', 'ra', 'la', 'na', 'da', 'ta']\n",
      "['pu', 'bu', 'mu', 'fu', 'vu', 'fa', 'va', 'pa', 'wa', 'ba', 'ma', 'ri', 'wi', 'fi', 'vi', 'pi', 'bi', 'mi', 'hu', 'ru', 'wu', 'ju', 'gu', 'ku', 'zu', '$\\\\int$i', '$\\\\int$u', 'du', '$\\\\theta$u', 'lu', 'nu', 'ha', 'gi', 'ki', 'hi', 'ji', 'ja', 'ga', 'ka', 'si', 'zi', 'li', 'di', 'ni', '$\\\\int$a', 'ti', 'za', 'sa', 'su', 'ra', 'la', 'na', 'da', 'ta']\n",
      "0.2\n",
      "0.6\n"
     ]
    },
    {
     "data": {
      "image/png": "[encoded data removed]",
      "text/plain": [
       "<matplotlib.figure.Figure at 0x7f291adc2780>"
      ]
     },
     "metadata": {},
     "output_type": "display_data"
    }
   ],
   "source": [
    "plt.close()\n",
    "reload(hierarchy)\n",
    "\n",
    "ticklabel_fontsize = ticklabel_fontstyle['fontsize']\n",
    "\n",
    "top_edge = .03\n",
    "bot_edge = .055\n",
    "l_edge = .15\n",
    "r_edge = .015\n",
    "\n",
    "h_gap = .05\n",
    "v0_gap = .05\n",
    "v1_gap = .06\n",
    "\n",
    "width_cm = .625\n",
    "bot_height = .175\n",
    "bot_width = 1. - l_edge - r_edge\n",
    "\n",
    "figsize = (6, 7.5)\n",
    "f = plt.figure(figsize=figsize)\n",
    "\n",
    "height_cm = width_cm * figsize[0] / figsize[1]\n",
    "\n",
    "# Dendrogram axis\n",
    "height_d = 1 - bot_edge - bot_height - v0_gap - height_cm - v1_gap - top_edge\n",
    "r0_y = bot_edge + bot_height + v0_gap + height_cm + v1_gap\n",
    "x0 = l_edge\n",
    "ax0 = f.add_axes([x0, r0_y, width_cm, height_d])\n",
    "\n",
    "width = 1 - l_edge - width_cm - h_gap - r_edge\n",
    "# Distance plot\n",
    "x1 = x0 + width_cm + h_gap\n",
    "ax1 = f.add_axes([x1,  r0_y, width, height_d])\n",
    "\n",
    "r1_y = bot_edge + bot_height + v1_gap\n",
    "# Colorbar\n",
    "x2 = x1 + width + h_gap\n",
    "cax = f.add_axes([l_edge, r1_y - .45 * v1_gap, .075, .02])\n",
    "# Confusion matrix\n",
    "ax2 = f.add_axes([l_edge, r1_y, width_cm, height_cm])\n",
    "# CV accuracies\n",
    "width = 1 - l_edge - width_cm - h_gap - r_edge\n",
    "ax3 = f.add_axes([l_edge + width_cm + h_gap, r1_y, width, height_cm])\n",
    "\n",
    "# Correlations\n",
    "ax4 = f.add_axes([l_edge, bot_edge, bot_width, bot_height])\n",
    "\n",
    "z, r = hierarchy.plot_dendrogram(yhs, threshold, cvs, max_d, ax0, deep=deep, audio=audio)\n",
    "cs, ds = hierarchy.plot_distance_vs_clusters(z, threshold, max_d, ax1)\n",
    "hierarchy.plot_soft_confusion(yhs, r, f, ax2, cax, deep=deep, cutoff=cutoff)\n",
    "hierarchy.plot_cv_accuracy(cv_accuracy, ax3)\n",
    "hierarchy.plot_correlations(dp, dm, dv, dmjar, ax4, deep=deep, audio=audio)\n",
    "\n",
    "x0 = .01\n",
    "y0 = .98\n",
    "x1 = .79\n",
    "y1 = .8\n",
    "y2 = .23\n",
    "\n",
    "f.text(x0, y0, 'A', **letter_fontstyle)\n",
    "f.text(x1, y0, 'B', **letter_fontstyle)\n",
    "f.text(x0, y1, 'C', **letter_fontstyle)\n",
    "f.text(x1, y1, 'D', **letter_fontstyle)\n",
    "f.text(x0, y2, 'E', **letter_fontstyle)\n",
    "\n",
    "\n",
    "if audio:\n",
    "    f.text(.21, .92, 'Sibilant', color='red', **ticklabel_fontstyle)\n",
    "    \n",
    "    f.text(.3, .92, '/i/', color='purple', **ticklabel_fontstyle)\n",
    "    f.text(.5, .93, '/u/', color='darkkhaki', **ticklabel_fontstyle)\n",
    "    f.text(.7, .93, '/a/', color='teal', **ticklabel_fontstyle)\n",
    "elif deep:\n",
    "    f.text(.2, .95, 'Labial', **ticklabel_fontstyle)\n",
    "    f.text(.151, .87, 'BL', **ticklabel_fontstyle)\n",
    "    f.text(.2, .87, 'LD', **ticklabel_fontstyle)\n",
    "    f.text(.245, .865, 'BL', **ticklabel_fontstyle)\n",
    "    f.text(.32, .87, 'BL', **ticklabel_fontstyle)\n",
    "    f.text(.17, .9, '/u/', color='darkkhaki', **ticklabel_fontstyle)\n",
    "    f.text(.23, .9, '/a/', color='teal', **ticklabel_fontstyle)\n",
    "    f.text(.29, .9, '/i/', color='purple', **ticklabel_fontstyle)\n",
    "    \n",
    "    f.text(.425, .91, '/u/', color='darkkhaki', **ticklabel_fontstyle)\n",
    "    f.text(.38, .895, 'DT', color='blue', **ticklabel_fontstyle)\n",
    "    f.text(.45, .9025, 'CT', color='gray', **ticklabel_fontstyle)\n",
    "        \n",
    "    f.text(.48, .91, 'Dorsal Tongue', color='blue', **ticklabel_fontstyle)\n",
    "    f.text(.545, .875, '/i/', color='purple', **ticklabel_fontstyle)\n",
    "    f.text(.57, .875, '/a/', color='teal', **ticklabel_fontstyle)\n",
    "    \n",
    "    f.text(.62, .92, 'Coronal Tongue', color='dimgray', **ticklabel_fontstyle)\n",
    "    f.text(.61, .88, 'S', color='red', **ticklabel_fontstyle)\n",
    "    f.text(.63, .9, '/i/', color='purple', **ticklabel_fontstyle)\n",
    "    f.text(.64, .88, 'A', color='green', **ticklabel_fontstyle)\n",
    "    f.text(.69, .88, 'S', color='red', **ticklabel_fontstyle)\n",
    "    f.text(.71, .895, '/a/', color='teal', **ticklabel_fontstyle)\n",
    "    f.text(.73, .8775, 'A', color='green', **ticklabel_fontstyle)\n",
    "else:\n",
    "    f.text(.2, .955, 'Labial', **ticklabel_fontstyle)\n",
    "    f.text(.151, .93, 'Bilabial', **ticklabel_fontstyle)\n",
    "    f.text(.151, .91, '/i/', color='purple', **ticklabel_fontstyle)\n",
    "    f.text(.18, .91, '/a/', color='teal', **ticklabel_fontstyle)\n",
    "    f.text(.265, .91, 'LD', **ticklabel_fontstyle)\n",
    "    f.text(.32, .91, '/u/', color='darkkhaki', **ticklabel_fontstyle)\n",
    "        \n",
    "    f.text(.38, .92, 'Dorsal Tongue', color='blue', **ticklabel_fontstyle)\n",
    "    f.text(.39, .895, '/u/', color='darkkhaki', **ticklabel_fontstyle)\n",
    "    f.text(.45, .895, '/i/', color='purple', **ticklabel_fontstyle)\n",
    "    f.text(.48, .895, '/a/', color='teal', **ticklabel_fontstyle)\n",
    "    \n",
    "    f.text(.53, .94, 'Coronal Tongue', color='gray', **ticklabel_fontstyle)\n",
    "    f.text(.53, .92, 'Sibilant', color='red', **ticklabel_fontstyle)\n",
    "    \n",
    "    f.text(.61, .92, 'Alveolar', color='green', **ticklabel_fontstyle)\n",
    "\n",
    "plt.savefig(os.path.join(os.environ['HOME'],\n",
    "                         'Downloads/hierarchy_{}.eps'.format(name)), dpi=300)\n",
    "plt.savefig(os.path.join(os.environ['HOME'],\n",
    "                         'Downloads/hierarchy_{}.png'.format(name)), dpi=300)\n",
    "plt.savefig(os.path.join(os.environ['HOME'],\n",
    "                         'Downloads/hierarchy_{}.pdf'.format(name)), dpi=300)\n",
    "\n",
    "plt.show()"
   ]
  },
  {
   "cell_type": "markdown",
   "metadata": {
    "collapsed": true
   },
   "source": [
    "# Feature Plots"
   ]
  },
  {
   "cell_type": "code",
   "execution_count": 82,
   "metadata": {},
   "outputs": [
    {
     "data": {
      "image/png": "[encoded data removed]",
      "text/plain": [
       "<matplotlib.figure.Figure at 0x7f8d66874198>"
      ]
     },
     "metadata": {},
     "output_type": "display_data"
    }
   ],
   "source": [
    "reload(articulator_features)\n",
    "f = plt.figure(figsize=(7, 3))\n",
    "\n",
    "t_e = .0\n",
    "r_e = .12\n",
    "l_e = .13\n",
    "b_e = .0\n",
    "ax = f.add_axes([l_e, b_e, 1 - l_e - r_e, 1 - t_e - b_e])\n",
    "\n",
    "cvs, alabels, afeatures = articulator_features.get_articulator_state_matrix()\n",
    "cvs, plabels, pmv, pfeatures = articulator_features.get_phonetic_feature_matrix()\n",
    "\n",
    "articulator_features.plot(ax, np.concatenate([afeatures, pfeatures], axis=1), alabels + plabels)\n",
    "\n",
    "plt.savefig(os.path.join(os.environ['HOME'], 'Downloads/articulatory_features.eps'), dpi=300)\n",
    "plt.savefig(os.path.join(os.environ['HOME'], 'Downloads/articulatory_features.png'), dpi=300)\n",
    "\n",
    "plt.show()"
   ]
  },
  {
   "cell_type": "code",
   "execution_count": null,
   "metadata": {
    "collapsed": true
   },
   "outputs": [],
   "source": []
  }
 ],
 "metadata": {
  "kernelspec": {
   "display_name": "Python 3",
   "language": "python",
   "name": "python3"
  },
  "language_info": {
   "codemirror_mode": {
    "name": "ipython",
    "version": 3
   },
   "file_extension": ".py",
   "mimetype": "text/x-python",
   "name": "python",
   "nbconvert_exporter": "python",
   "pygments_lexer": "ipython3",
   "version": "3.6.4"
  }
 },
 "nbformat": 4,
 "nbformat_minor": 2
}
